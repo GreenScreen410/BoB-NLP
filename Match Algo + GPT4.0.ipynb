{
 "cells": [
  {
   "cell_type": "markdown",
   "id": "19891343",
   "metadata": {},
   "source": [
    "# Privacy Checking Solution"
   ]
  },
  {
   "cell_type": "code",
   "execution_count": 241,
   "id": "9c682243",
   "metadata": {},
   "outputs": [],
   "source": [
    "%%capture\n",
    "!pip install openai\n",
    "!pip install datasets"
   ]
  },
  {
   "cell_type": "code",
   "execution_count": 249,
   "id": "fa7019c7",
   "metadata": {},
   "outputs": [
    {
     "name": "stdout",
     "output_type": "stream",
     "text": [
      "OpenAI API키 입력········\n"
     ]
    }
   ],
   "source": [
    "import os\n",
    "import getpass\n",
    "import openai\n",
    "openai.api_key = getpass.getpass(prompt = 'OpenAI API키 입력')"
   ]
  },
  {
   "cell_type": "code",
   "execution_count": 5,
   "id": "d9ac423b",
   "metadata": {},
   "outputs": [],
   "source": [
    "import pandas as pd"
   ]
  },
  {
   "cell_type": "code",
   "execution_count": 6,
   "id": "2415b8a2",
   "metadata": {},
   "outputs": [],
   "source": [
    "df = pd.read_csv(\"test_instruction.csv\")"
   ]
  },
  {
   "cell_type": "code",
   "execution_count": 134,
   "id": "2f5a5589",
   "metadata": {},
   "outputs": [],
   "source": [
    "df = pd.read_csv(\"test_instruction_bob.csv\")"
   ]
  },
  {
   "cell_type": "code",
   "execution_count": 135,
   "id": "f9deaea9",
   "metadata": {},
   "outputs": [],
   "source": [
    "target_list = df['part'].unique()"
   ]
  },
  {
   "cell_type": "code",
   "execution_count": 136,
   "id": "7cf293da",
   "metadata": {},
   "outputs": [
    {
     "data": {
      "text/html": [
       "<div>\n",
       "<style scoped>\n",
       "    .dataframe tbody tr th:only-of-type {\n",
       "        vertical-align: middle;\n",
       "    }\n",
       "\n",
       "    .dataframe tbody tr th {\n",
       "        vertical-align: top;\n",
       "    }\n",
       "\n",
       "    .dataframe thead th {\n",
       "        text-align: right;\n",
       "    }\n",
       "</style>\n",
       "<table border=\"1\" class=\"dataframe\">\n",
       "  <thead>\n",
       "    <tr style=\"text-align: right;\">\n",
       "      <th></th>\n",
       "      <th>part</th>\n",
       "      <th>instruction</th>\n",
       "      <th>keywords</th>\n",
       "    </tr>\n",
       "  </thead>\n",
       "  <tbody>\n",
       "    <tr>\n",
       "      <th>0</th>\n",
       "      <td>제목 및 서문</td>\n",
       "      <td>NaN</td>\n",
       "      <td>제목 및 서문, 제목 및 서론</td>\n",
       "    </tr>\n",
       "    <tr>\n",
       "      <th>1</th>\n",
       "      <td>개인정보의 처리 목적</td>\n",
       "      <td>개인정보처리자가 개인정보를 처리*하기 위한 목적을 기재함\\n* “개인정보의 처리”란...</td>\n",
       "      <td>개인정보 수집 및 이용목적</td>\n",
       "    </tr>\n",
       "    <tr>\n",
       "      <th>2</th>\n",
       "      <td>개인정보의 처리 및 보유 기간</td>\n",
       "      <td>정보주체로부터 동의 받은 ‘보유·이용 기간’ 또는 법령에 따른 ‘보유·이용기간’에 ...</td>\n",
       "      <td>개인정보의 보유 및 이용기간</td>\n",
       "    </tr>\n",
       "    <tr>\n",
       "      <th>3</th>\n",
       "      <td>처리하는 개인정보의 항목</td>\n",
       "      <td>개인정보처리자가 처리하고 있는 각각의 개인정보 항목을 기재함\\n수집목적에 필요한 최...</td>\n",
       "      <td>수집하는 개인정보 항목 및 수집방법</td>\n",
       "    </tr>\n",
       "    <tr>\n",
       "      <th>4</th>\n",
       "      <td>만 14세 미만 아동의 개인정보 처리에 관한 사항</td>\n",
       "      <td>NaN</td>\n",
       "      <td>만 14세 미만</td>\n",
       "    </tr>\n",
       "    <tr>\n",
       "      <th>5</th>\n",
       "      <td>개인정보의 제3자 제공에 관한 사항</td>\n",
       "      <td>개인정보처리자가 개인정보를 제3자에게 제공하는 경우에는 법 제17조에 따른 사항을 ...</td>\n",
       "      <td>개인정보의 공유 및 제공</td>\n",
       "    </tr>\n",
       "    <tr>\n",
       "      <th>6</th>\n",
       "      <td>개인정보 처리업무의 위탁에 관한 사항</td>\n",
       "      <td>NaN</td>\n",
       "      <td>위탁</td>\n",
       "    </tr>\n",
       "    <tr>\n",
       "      <th>7</th>\n",
       "      <td>개인정보의 국외 이전에 관한 사항</td>\n",
       "      <td>NaN</td>\n",
       "      <td>국외</td>\n",
       "    </tr>\n",
       "    <tr>\n",
       "      <th>8</th>\n",
       "      <td>개인정보의 파기 절차 및 방법에 관한 사항</td>\n",
       "      <td>NaN</td>\n",
       "      <td>개인정보의 파기</td>\n",
       "    </tr>\n",
       "    <tr>\n",
       "      <th>9</th>\n",
       "      <td>미이용자의 개인정보 파기 등에 관한 조치</td>\n",
       "      <td>NaN</td>\n",
       "      <td>미이용자의 개인정보 파기</td>\n",
       "    </tr>\n",
       "    <tr>\n",
       "      <th>10</th>\n",
       "      <td>정보주체와 법정대리인의 권리·의무 및 행사방법에 관한 사항</td>\n",
       "      <td>NaN</td>\n",
       "      <td>정보주체와 법정대리인의 권리·의무 및 행사방법에 관한 사항</td>\n",
       "    </tr>\n",
       "    <tr>\n",
       "      <th>11</th>\n",
       "      <td>개인정보의 안전성 확보조치에 관한 사항</td>\n",
       "      <td>NaN</td>\n",
       "      <td>개인정보의 안전성 확보조치에 관한 사항</td>\n",
       "    </tr>\n",
       "    <tr>\n",
       "      <th>12</th>\n",
       "      <td>개인정보를 자동으로 수집하는 장치의 설치·운영 및 그 거부에 관한 사항</td>\n",
       "      <td>NaN</td>\n",
       "      <td>개인정보를 자동으로 수집하는 장치의 설치·운영 및 그 거부에 관한 사항</td>\n",
       "    </tr>\n",
       "    <tr>\n",
       "      <th>13</th>\n",
       "      <td>행태정보의 수집·이용·제공 및 거부 등에 관한 사항</td>\n",
       "      <td>NaN</td>\n",
       "      <td>행태정보의 수집·</td>\n",
       "    </tr>\n",
       "    <tr>\n",
       "      <th>14</th>\n",
       "      <td>추가적인 이용·제공 관련 판단 기준</td>\n",
       "      <td>NaN</td>\n",
       "      <td>추가적인 이용·제공 관련 판단 기준</td>\n",
       "    </tr>\n",
       "    <tr>\n",
       "      <th>15</th>\n",
       "      <td>가명정보 처리에 관한 사항</td>\n",
       "      <td>NaN</td>\n",
       "      <td>가명정보</td>\n",
       "    </tr>\n",
       "    <tr>\n",
       "      <th>16</th>\n",
       "      <td>개인정보 보호책임자에 관한 사항</td>\n",
       "      <td>개인정보처리자가 법 제31조에 따라 지정한 개인정보 보호책임자와 그 성명, 부서의 ...</td>\n",
       "      <td>개인정보 보호책임자</td>\n",
       "    </tr>\n",
       "    <tr>\n",
       "      <th>17</th>\n",
       "      <td>국내대리인 지정에 관한 사항</td>\n",
       "      <td>NaN</td>\n",
       "      <td>국내대리인</td>\n",
       "    </tr>\n",
       "    <tr>\n",
       "      <th>18</th>\n",
       "      <td>개인정보의 열람청구를 접수·처리하는 부서</td>\n",
       "      <td>NaN</td>\n",
       "      <td>열람청구</td>\n",
       "    </tr>\n",
       "    <tr>\n",
       "      <th>19</th>\n",
       "      <td>정보주체의 권익침해에 대한 구제방법</td>\n",
       "      <td>NaN</td>\n",
       "      <td>권익침해</td>\n",
       "    </tr>\n",
       "    <tr>\n",
       "      <th>20</th>\n",
       "      <td>영상정보처리기기 운영·관리에 관한 사항</td>\n",
       "      <td>NaN</td>\n",
       "      <td>영상정보처리기기</td>\n",
       "    </tr>\n",
       "    <tr>\n",
       "      <th>21</th>\n",
       "      <td>개인정보 처리방침의 변경에 관한 사항</td>\n",
       "      <td>NaN</td>\n",
       "      <td>개인정보 처리방침의 변경</td>\n",
       "    </tr>\n",
       "    <tr>\n",
       "      <th>22</th>\n",
       "      <td>그밖에 개인정보처리자가 개인정보 처리 기준 및 보호조치 등에 관하여 \\n자율적으로 ...</td>\n",
       "      <td>NaN</td>\n",
       "      <td>그밖에 개인정보처리자가 개인정보 처리 기준 및 보호조치 등에 관하여 \\n자율적으로 ...</td>\n",
       "    </tr>\n",
       "  </tbody>\n",
       "</table>\n",
       "</div>"
      ],
      "text/plain": [
       "                                                 part  \\\n",
       "0                                             제목 및 서문   \n",
       "1                                         개인정보의 처리 목적   \n",
       "2                                    개인정보의 처리 및 보유 기간   \n",
       "3                                       처리하는 개인정보의 항목   \n",
       "4                         만 14세 미만 아동의 개인정보 처리에 관한 사항   \n",
       "5                                 개인정보의 제3자 제공에 관한 사항   \n",
       "6                                개인정보 처리업무의 위탁에 관한 사항   \n",
       "7                                  개인정보의 국외 이전에 관한 사항   \n",
       "8                             개인정보의 파기 절차 및 방법에 관한 사항   \n",
       "9                              미이용자의 개인정보 파기 등에 관한 조치   \n",
       "10                   정보주체와 법정대리인의 권리·의무 및 행사방법에 관한 사항   \n",
       "11                              개인정보의 안전성 확보조치에 관한 사항   \n",
       "12            개인정보를 자동으로 수집하는 장치의 설치·운영 및 그 거부에 관한 사항   \n",
       "13                       행태정보의 수집·이용·제공 및 거부 등에 관한 사항   \n",
       "14                                추가적인 이용·제공 관련 판단 기준   \n",
       "15                                     가명정보 처리에 관한 사항   \n",
       "16                                  개인정보 보호책임자에 관한 사항   \n",
       "17                                    국내대리인 지정에 관한 사항   \n",
       "18                             개인정보의 열람청구를 접수·처리하는 부서   \n",
       "19                                정보주체의 권익침해에 대한 구제방법   \n",
       "20                              영상정보처리기기 운영·관리에 관한 사항   \n",
       "21                               개인정보 처리방침의 변경에 관한 사항   \n",
       "22  그밖에 개인정보처리자가 개인정보 처리 기준 및 보호조치 등에 관하여 \\n자율적으로 ...   \n",
       "\n",
       "                                          instruction  \\\n",
       "0                                                 NaN   \n",
       "1   개인정보처리자가 개인정보를 처리*하기 위한 목적을 기재함\\n* “개인정보의 처리”란...   \n",
       "2   정보주체로부터 동의 받은 ‘보유·이용 기간’ 또는 법령에 따른 ‘보유·이용기간’에 ...   \n",
       "3   개인정보처리자가 처리하고 있는 각각의 개인정보 항목을 기재함\\n수집목적에 필요한 최...   \n",
       "4                                                 NaN   \n",
       "5   개인정보처리자가 개인정보를 제3자에게 제공하는 경우에는 법 제17조에 따른 사항을 ...   \n",
       "6                                                 NaN   \n",
       "7                                                 NaN   \n",
       "8                                                 NaN   \n",
       "9                                                 NaN   \n",
       "10                                                NaN   \n",
       "11                                                NaN   \n",
       "12                                                NaN   \n",
       "13                                                NaN   \n",
       "14                                                NaN   \n",
       "15                                                NaN   \n",
       "16  개인정보처리자가 법 제31조에 따라 지정한 개인정보 보호책임자와 그 성명, 부서의 ...   \n",
       "17                                                NaN   \n",
       "18                                                NaN   \n",
       "19                                                NaN   \n",
       "20                                                NaN   \n",
       "21                                                NaN   \n",
       "22                                                NaN   \n",
       "\n",
       "                                             keywords  \n",
       "0                                    제목 및 서문, 제목 및 서론  \n",
       "1                                      개인정보 수집 및 이용목적  \n",
       "2                                     개인정보의 보유 및 이용기간  \n",
       "3                                 수집하는 개인정보 항목 및 수집방법  \n",
       "4                                            만 14세 미만  \n",
       "5                                       개인정보의 공유 및 제공  \n",
       "6                                                  위탁  \n",
       "7                                                 국외   \n",
       "8                                            개인정보의 파기  \n",
       "9                                       미이용자의 개인정보 파기  \n",
       "10                   정보주체와 법정대리인의 권리·의무 및 행사방법에 관한 사항  \n",
       "11                              개인정보의 안전성 확보조치에 관한 사항  \n",
       "12            개인정보를 자동으로 수집하는 장치의 설치·운영 및 그 거부에 관한 사항  \n",
       "13                                          행태정보의 수집·  \n",
       "14                                추가적인 이용·제공 관련 판단 기준  \n",
       "15                                               가명정보  \n",
       "16                                         개인정보 보호책임자  \n",
       "17                                              국내대리인  \n",
       "18                                               열람청구  \n",
       "19                                               권익침해  \n",
       "20                                           영상정보처리기기  \n",
       "21                                      개인정보 처리방침의 변경  \n",
       "22  그밖에 개인정보처리자가 개인정보 처리 기준 및 보호조치 등에 관하여 \\n자율적으로 ...  "
      ]
     },
     "execution_count": 136,
     "metadata": {},
     "output_type": "execute_result"
    }
   ],
   "source": [
    "df"
   ]
  },
  {
   "cell_type": "code",
   "execution_count": 23,
   "id": "a65b5b5c",
   "metadata": {},
   "outputs": [],
   "source": [
    "with open('akdan.txt', 'r', encoding='utf-8') as file:\n",
    "    akdan = file.read()\n",
    "    \n",
    "    \n",
    "with open('bob.txt', 'r', encoding='utf-8') as file:\n",
    "    bob = file.read()\n",
    "    "
   ]
  },
  {
   "cell_type": "code",
   "execution_count": 24,
   "id": "a4c2f2ab",
   "metadata": {},
   "outputs": [
    {
     "data": {
      "text/plain": [
       "'개인정보취급방침Best of the Best는 이용자의 개인정보보호를 최우선의 가치로 생각합니다.\\n한국정보기술연구원의 개인정보취급방침은 다음과 같은 내용을 담고 있습니다.\\n\\n가. 수집하는 개인정보 항목 및 수집방법\\n웹사이트에서 회원가입, 전자민원서비스 이용 및 게시판 등에 글쓰기를 하시고자 하는 경우에, 연구원에서는 이용자의 동의를 얻어 필요한 최소한의 개인정보를 수집하고 있습니다.\\n수집하는 개인정보 항목은 다음과 같습니다.\\n- 홈페이지 회원가입 : 아이디, 이름, 이메일, 주소, 전화번호, 휴대폰번호 등\\n- 게시판 글쓰기 : 이름, E-mail\\n※ 수집근거 : 홈페이지 이용약관\\n나. 개인정보 수집 및 이용목적\\n대부분의 연구원 홈페이지에서 제공하는 서비스는 별도의 회원가입 없이 언제든지 사용할 수 있습니다. 그러나, 연구원에서는 맞춤서비스(메일링 서비스, 교육안내 등)를 비롯한 보다 더 향상된 양질의 서비스를 제공하기 위하여 이용자 개인의 정보를 수집하고 있습니다.\\n다. 개인정보의 공유 및 제공\\n연구원 회원에 가입하신 분께서는 개인정보를 열람 또는 정정하고자 하실 때에는 아이디와 이름을 제외하고 직접 열람 또는 정정하시면 됩니다. 회원가입을 통해 개인정보의 수집, 이용, 제공에 대해 동의하신 내용을 회원은 언제든지 철회하실 수 있습니다. 회원은 관리자에게 유선 또는 메일로 문의하여 조치를 받으시면 됩니다.\\n라. 개인정보의 보유 및 이용기간\\n회원으로서 한국정보기술연구원에 제공하는 서비스를 이용하는 동안 연구원은 회원의 개인정보를 계속적으로 보유하며 서비스 제공 등을 위해 이용합니다.\\n일시적인 목적(이벤트 등)으로 입력 받은 개인정보는 그 목적이 달성된 이후에는 동일한 방법으로 사후 재생이 불가능한 상태로 처리됩니다. 한국정보기술연구원은 개인정보의 수집목적이 달성되면 파기하는 것을 원칙으로 합니다.\\n전자민원창구(Q&A)와 제안마당의 게시물을 작성하신 경우, 또는 정부지원사업에 참여하신 경우 민원의 원활한 행정업무 처리를 위하여 개인정보를 보관합니다. 이 경우 한국정보기술연구원은 보관하는 정보를 그 보관 목적으로만 이용합니다.\\n비회원 : 회원에 가입하지 않고 서비스를 이용하는 자를 말합니다.\\n마.개인정보 보호책임자\\n한국정보기술연구원은 회원의 개인정보를 보호하고 개인정보와 관련한 불만을 처리하기 위하여 아래와 같이 관련 부서 및 개인정보 보호책임자를 지정하고 있습니다.\\n[한국정보기술연구원 BoB센터 개인정보 보호책임자]\\n- 담당자: 윤일중 보안교육운영팀장\\n- 담당부서: BoB센터\\n- 전화번호: 070-7093-9877\\n- 이메일: toquryoon@kitri.re.kr\\n- 주소: 서울시 금천구 서부샛길 606 대성디폴리스지식산업센터 A동 2701호'"
      ]
     },
     "execution_count": 24,
     "metadata": {},
     "output_type": "execute_result"
    }
   ],
   "source": [
    "bob"
   ]
  },
  {
   "cell_type": "code",
   "execution_count": 10,
   "id": "fe610a98",
   "metadata": {
    "scrolled": true
   },
   "outputs": [
    {
     "data": {
      "text/plain": [
       "'  ** 본 양식은 쇼핑몰 운영에 도움을 드리고자 샘플로 제공되는 서식으로 쇼핑몰 운영형태에 따른 수정이 필요합니다. 쇼핑몰에 적용하시기 전, 쇼핑몰 운영 사항 등을 확인하시고 적절한 내용을 반영하여 사용하시기 바랍니다. **\\n\\n(주)○○○은 (이하 \"회사\"는) 고객님의 개인정보를 중요시하며, \"개인정보 보호법\" 등 관련 법령을 준수하고 있습니다.\\n회사는 개인정보처리방침을 통하여 고객님께서 제공하시는 개인정보가 어떠한 용도와 방식으로 이용되고 있으며, 개인정보보호를 위해 어떠한 조치가 취해지고 있는지 알려드립니다.\\n\\n■ 수집하는 개인정보 항목 및 수집방법\\n가. 수집하는 개인정보의 항목\\no 회사는 회원가입, 상담, 서비스 신청 등을 위해 아래와 같은 개인정보를 수집하고 있습니다.\\n- 회원가입시 : 이름 , 생년월일 , 성별 , 로그인ID , 비밀번호 , 자택 전화번호 , 휴대전화번호 , 이메일 , 14세미만 가입자의 경우 법정대리인의 정보\\n- 서비스 신청시 : 주소, 결제 정보\\n\\no 서비스 이용 과정이나 사업 처리 과정에서 서비스이용기록, 접속로그, 쿠키, 접속 IP, 결제 기록, 불량이용 기록이 생성되어 수집될 수 있습니다.\\n\\n나. 수집방법\\n- 홈페이지, 서면양식, 게시판, 이메일, 이벤트 응모, 배송요청, 전화, 팩스, 생성 정보 수집 툴을 통한 수집\\n\\n■ 개인정보의 수집 및 이용목적\\n회사는 수집한 개인정보를 다음의 목적을 위해 활용합니다.\\no 서비스 제공에 관한 계약 이행 및 서비스 제공에 따른 요금정산\\n콘텐츠 제공 , 구매 및 요금 결제 , 물품배송 또는 청구지 등 발송 , 금융거래 본인 인증 및 금융 서비스\\no 회원 관리\\n회원제 서비스 이용에 따른 본인확인 , 개인 식별 , 불량회원의 부정 이용 방지와 비인가 사용 방지 , 가입 의사 확인 , 연령확인 , 만14세 미만 아동 개인정보 수집 시 법정 대리인 동의여부 확인, 불만처리 등 민원처리 , 고지사항 전달\\no 마케팅 및 광고에 활용\\n이벤트 등 광고성 정보 전달 , 접속 빈도 파악 또는 회원의 서비스 이용에 대한 통계\\n\\n■ 개인정보의 보유 및 이용기간\\n원칙적으로, 개인정보 수집 및 이용목적이 달성된 후에는 해당 정보를 지체 없이 파기합니다. 단, 다음의 정보에 대해서는 아래의 이유로 명시한 기간 동안 보존합니다.\\n\\n가. 회사 내부방침에 의한 정보보유 사유\\n 회원이 탈퇴한 경우에도 불량회원의 부정한 이용의 재발을 방지, 분쟁해결 및 수사기관의 요청에 따른 협조를 위하여, 이용계약 해지일로부터 oo년간 회원의 정보를 보유할 수 있습니다.\\n\\n나. 관련 법령에 의한 정보 보유 사유\\n전자상거래등에서의소비자보호에관한법률 등 관계법령의 규정에 의하여 보존할 필요가 있는 경우 회사는 아래와 같이 관계법령에서 정한 일정한 기간 동안 회원정보를 보관합니다.\\no 계약 또는 청약철회 등에 관한 기록\\n-보존이유 : 전자상거래등에서의소비자보호에관한법률\\n-보존기간 : 5년\\no 대금 결제 및 재화 등의 공급에 관한 기록\\n-보존이유: 전자상거래등에서의소비자보호에관한법률\\n-보존기간 : 5년\\no 소비자 불만 또는 분쟁처리에 관한 기록\\n-보존이유 : 전자상거래등에서의소비자보호에관한법률\\n-보존기간 : 3년\\no 로그 기록\\n-보존이유: 통신비밀보호법\\n-보존기간 : 3개월\\n\\n■ 개인정보의 파기절차 및 방법\\n회사는 원칙적으로 개인정보 수집 및 이용목적이 달성된 후에는 해당 정보를 지체없이 파기합니다. 파기절차 및 방법은 다음과 같습니다.\\no 파기절차\\n회원님이 회원가입 등을 위해 입력하신 정보는 목적이 달성된 후 별도의 DB로 옮겨져(종이의 경우 별도의 서류함) 내부 방침 및 기타 관련 법령에 의한 정보보호 사유에 따라(보유 및 이용기간 참조) 일정 기간 저장된 후 파기되어집니다.\\n별도 DB로 옮겨진 개인정보는 법률에 의한 경우가 아니고서는 보유되어지는 이외의 다른 목적으로 이용되지 않습니다.\\no 파기방법\\n전자적 파일형태로 저장된 개인정보는 기록을 재생할 수 없는 기술적 방법을 사용하여 삭제합니다.\\n\\n■ 개인정보 제공\\n회사는 이용자의 개인정보를 원칙적으로 외부에 제공하지 않습니다. 다만, 아래의 경우에는 예외로 합니다.\\no 이용자들이 사전에 동의한 경우\\no 법령의 규정에 의거하거나, 수사 목적으로 법령에 정해진 절차와 방법에 따라 수사기관의 요구가 있는 경우\\n\\n■ 수집한 개인정보의 위탁\\n회사는 서비스 이행을 위해 아래와 같이 외부 전문업체에 위탁하여 운영하고 있습니다.\\no 위탁 대상자 : [택배사 이름]\\no 위탁업무 내용 : [택배사 위탁 내용]\\n\\no 위탁 대상자 : [PG사 이름]\\no 위탁업무 내용 : [PG사 위탁 내용]\\n\\no 위탁 대상자 : 공급업체 목록보기\\no 위탁업무 내용 : [위탁업무 내용]\\n\\n\\n■ 이용자 및 법정대리인의 권리와 그 행사방법\\no 이용자는 언제든지 등록되어 있는 자신의 개인정보를 조회하거나 수정할 수 있으며 가입해지를 요청할 수도 있습니다.\\no 이용자들의 개인정보 조회,수정을 위해서는 \"개인정보변경\"(또는 \"회원정보수정\" 등)을 가입해지(동의철회)를 위해서는 \"회원탈퇴\"를 클릭하여 본인 확인 절차를 거치신 후 직접 열람, 정정 또는 탈퇴가 가능합니다.\\no 혹은 개인정보보호책임자에게 서면, 전화 또는 이메일로 연락하시면 지체없이 조치하겠습니다.\\no 귀하가 개인정보의 오류에 대한 정정을 요청하신 경우에는 정정을 완료하기 전까지 당해 개인정보를 이용 또는 제공하지 않습니다. 또한 잘못된 개인정보를 제3자에게 이미 제공한 경우에는 정정 처리결과를 제3자에게 지체없이 통지하여 정정이 이루어지도록 하겠습니다.\\no 회사는 이용자의 요청에 의해 해지 또는 삭제된 개인정보는 \"회사가 수집하는 개인정보의 보유 및 이용기간\"에 명시된 바에 따라 처리하고 그 외의 용도로 열람 또는 이용할 수 없도록 처리하고 있습니다.\\n\\n■ 개인정보 자동수집 장치의 설치, 운영 및 그 거부에 관한 사항\\n회사는 귀하의 정보를 수시로 저장하고 찾아내는 \"쿠키(cookie)\" 등을 운용합니다. 쿠키란 웹사이트를 운영하는데 이용되는 서버가 귀하의 브라우저에 보내는 아주 작은 텍스트 파일로서 귀하의 컴퓨터 하드디스크에 저장됩니다.\\n회사은(는) 다음과 같은 목적을 위해 쿠키를 사용합니다.\\no 쿠키 등 사용 목적\\n1. 회원과 비회원의 접속 빈도나 방문 시간 등을 분석, 이용자의 취향과 관심분야를 파악 및 자취 추적, 각종 이벤트 참여 정도 및 방문 회수 파악 등을 통한 타겟 마케팅 및 개인 맞춤 서비스 제공\\n2. 귀하는 쿠키 설치에 대한 선택권을 가지고 있습니다. 따라서, 귀하는 웹브라우저에서 옵션을 설정함으로써 모든 쿠키를 허용하거나, 쿠키가 저장될 때마다 확인을 거치거나, 아니면 모든 쿠키의 저장을 거부할 수도 있습니다.\\no 쿠키 설정 거부 방법\\n1. 쿠키 설정을 거부하는 방법으로는 회원님이 사용하시는 웹 브라우저의 옵션을 선택함으로써 모든 쿠키를 허용하거나 쿠키를 저장할 때마다 확인을 거치거나, 모든 쿠키의 저장을 거부할 수 있습니다.\\n2. 설정방법 예(인터넷 익스플로어의 경우) : 웹 브라우저 상단의 도구 > 인터넷 옵션 > 개인정보\\n3. 단, 귀하께서 쿠키 설치를 거부하였을 경우 서비스 제공에 어려움이 있을 수 있습니다.\\n\\n■ 개인정보에 관한 민원서비스\\n회사는 고객의 개인정보를 보호하고 개인정보와 관련한 불만을 처리하기 위하여 아래와 같이 관련 부서 및 개인정보보호책임자를 지정하고 있습니다.\\no 개인정보보호담당자\\n성명 : OOO\\n소속 : OOO\\n전화번호 : OO-OOO-OOOO\\n이메일 :\\n\\no 개인정보보호책임자\\n성명 : OOO\\n소속 : OOO\\n전화번호 : OO-OOO-OOOO\\n이메일 :\\n\\no 귀하께서는 회사의 서비스를 이용하시며 발생하는 모든 개인정보보호 관련 민원을 개인정보보호책임자 혹은 담당부서로 신고하실 수 있습니다.\\no 회사는 이용자들의 신고사항에 대해 신속하게 충분한 답변을 드릴 것입니다.\\no 기타 개인정보침해에 대한 신고나 상담이 필요하신 경우에는 아래 기관에 문의하시기 바랍니다.\\n개인정보침해신고센터 (privacy.kisa.or.kr / 국번 없이 118)\\n개인정보분쟁조정위원회 (kopico.go.kr / 1833-6972)\\n대검찰청 사이버수사과 (spo.go.kr / 지역번호+1301)\\n경찰청 사이버안전국 (cyberbureau.police.go.kr / 국번없이 182)'"
      ]
     },
     "execution_count": 10,
     "metadata": {},
     "output_type": "execute_result"
    }
   ],
   "source": [
    "akdan "
   ]
  },
  {
   "cell_type": "markdown",
   "id": "443b5a18",
   "metadata": {},
   "source": [
    "# Ideal Algo 1 (Fast-Text + Cosine Similarity)"
   ]
  },
  {
   "cell_type": "code",
   "execution_count": 7,
   "id": "390962d3",
   "metadata": {},
   "outputs": [],
   "source": [
    "from sklearn.metrics.pairwise import cosine_similarity\n",
    "import numpy as np\n",
    "\n",
    "# 이미 학습된 FastText 모델 로드\n",
    "from gensim.models.fasttext import load_facebook_model\n",
    "\n",
    "fb_model = load_facebook_model(\"./cc.ko.300.bin\")"
   ]
  },
  {
   "cell_type": "code",
   "execution_count": 39,
   "id": "b3824bbf",
   "metadata": {},
   "outputs": [
    {
     "name": "stderr",
     "output_type": "stream",
     "text": [
      "[nltk_data] Downloading package punkt to\n",
      "[nltk_data]     C:\\Users\\scw10\\AppData\\Roaming\\nltk_data...\n",
      "[nltk_data]   Unzipping tokenizers\\punkt.zip.\n"
     ]
    },
    {
     "data": {
      "text/plain": [
       "True"
      ]
     },
     "execution_count": 39,
     "metadata": {},
     "output_type": "execute_result"
    }
   ],
   "source": [
    "import nltk\n",
    "nltk.download('punkt')"
   ]
  },
  {
   "cell_type": "code",
   "execution_count": 76,
   "id": "7519a354",
   "metadata": {},
   "outputs": [
    {
     "name": "stdout",
     "output_type": "stream",
     "text": [
      "sentence1과 비슷한 항목 ■ 개인정보의 수집 및 이용목적\n",
      "sentence2와 비슷한 항목 ■ 개인정보의 보유 및 이용기간\n",
      "sentence1과 비슷한 항목의 코사인 유사도  0.8322196\n",
      "sentence2와 비슷한 항목의 코사인 유사도 0.8401126\n"
     ]
    },
    {
     "data": {
      "text/plain": [
       "'■ 개인정보의 수집 및 이용목적\\n회사는 수집한 개인정보를 다음의 목적을 위해 활용합니다.\\no 서비스 제공에 관한 계약 이행 및 서비스 제공에 따른 요금정산\\n콘텐츠 제공 , 구매 및 요금 결제 , 물품배송 또는 청구지 등 발송 , 금융거래 본인 인증 및 금융 서비스\\no 회원 관리\\n회원제 서비스 이용에 따른 본인확인 , 개인 식별 , 불량회원의 부정 이용 방지와 비인가 사용 방지 , 가입 의사 확인 , 연령확인 , 만14세 미만 아동 개인정보 수집 시 법정 대리인 동의여부 확인, 불만처리 등 민원처리 , 고지사항 전달\\no 마케팅 및 광고에 활용\\n이벤트 등 광고성 정보 전달 , 접속 빈도 파악 또는 회원의 서비스 이용에 대한 통계\\n\\n'"
      ]
     },
     "execution_count": 76,
     "metadata": {},
     "output_type": "execute_result"
    }
   ],
   "source": [
    "from konlpy.tag import Okt\n",
    "from sklearn.metrics.pairwise import cosine_similarity\n",
    "from nltk.tokenize import sent_tokenize\n",
    "\n",
    "# Korean tokenizer\n",
    "tokenizer = Okt()\n",
    "\n",
    "\n",
    "test_similarity=[]\n",
    "def custom_sent_tokenize(text):\n",
    "    # Replace common delimiters with a period, then tokenize\n",
    "    text = text.replace('\\n', '.').replace('\\t', '.').replace('!', '.').replace('?', '.')\n",
    "    sentences = [sent.strip() for sent in text.split('.') if sent]\n",
    "    return sentences\n",
    "\n",
    "\n",
    "def get_sentence_embedding(sentence, model):\n",
    "    words = tokenizer.morphs(sentence)\n",
    "    vectors = [model.wv[w] for w in words]\n",
    "    if not vectors:  # if no word in the model vocabulary\n",
    "        return None\n",
    "    sentence_vector = sum(vectors) / len(vectors)\n",
    "    return sentence_vector.reshape(1, -1)\n",
    "\n",
    "def most_similar_sentence(target_sentence, text, model):\n",
    "    target_vector = get_sentence_embedding(target_sentence, model)\n",
    "    sentences = custom_sent_tokenize(text)\n",
    "\n",
    "    max_similarity = -1\n",
    "    most_similar = None\n",
    "\n",
    "    for sentence in sentences:\n",
    "        sentence_vector = get_sentence_embedding(sentence, model)\n",
    "        if sentence_vector is None:  # skip if there's no valid vector\n",
    "            continue\n",
    "        similarity = cosine_similarity(target_vector, sentence_vector)[0][0]\n",
    "        if similarity > max_similarity:\n",
    "            test_similarity.append(similarity)\n",
    "            max_similarity = similarity\n",
    "            most_similar = sentence\n",
    "\n",
    "    return most_similar, max_similarity\n",
    "\n",
    "target_sentence1 = \"개인정보의 처리 목적\"\n",
    "target_sentence2 = \"개인정보의 처리 및 보유 기간\"\n",
    "\n",
    "similar_sentence1, sentence1_cosine = most_similar_sentence(target_sentence1, akdan, fb_model)\n",
    "\n",
    "test_similarity=[]\n",
    "similar_sentence2, sentence2_cosine = most_similar_sentence(target_sentence2, akdan, fb_model)\n",
    "print(\"sentence1과 비슷한 항목\", similar_sentence1)\n",
    "print(\"sentence2와 비슷한 항목\", similar_sentence2)\n",
    "\n",
    "\n",
    "\n",
    "print(\"sentence1과 비슷한 항목의 코사인 유사도 \",sentence1_cosine)\n",
    "print(\"sentence2와 비슷한 항목의 코사인 유사도\", sentence2_cosine)\n",
    "\n",
    "\n",
    "\n",
    "start_index = akdan.find(similar_sentence1)\n",
    "end_index = akdan.find(similar_sentence2)\n",
    "\n",
    "\n",
    "akdan[start_index: end_index]\n",
    "\n",
    "\n"
   ]
  },
  {
   "cell_type": "code",
   "execution_count": 86,
   "id": "28bf503e",
   "metadata": {},
   "outputs": [
    {
     "data": {
      "text/plain": [
       "'개인정보 수집 항목을 전부 나열하지 않고 ‘~등’과 같이 기재하지 않도록 하고, 특히 \\n필수항목과 선택항목을 명확히 구분하여야 함'"
      ]
     },
     "execution_count": 86,
     "metadata": {},
     "output_type": "execute_result"
    }
   ],
   "source": [
    "df['instruction'][0]"
   ]
  },
  {
   "cell_type": "code",
   "execution_count": 87,
   "id": "37be1e53",
   "metadata": {},
   "outputs": [],
   "source": [
    "def create_prompt(text, start_index, end_index):\n",
    "    target = text[start_index: end_index]\n",
    "    target = '\\\"'+ target+'\\\"'+\"은 이 회사의 방침이야 그리고\" + '\\\"'+ df['instruction'][0]+'\\\"' + \"은 개인정보처리 지침이야\"\n",
    "    target += \"개인정보처리 지침을 보고 이 회사의 방침에서 잘못된 부분이 있다면 찾아서 설명해줘!\"\n",
    "    return target"
   ]
  },
  {
   "cell_type": "code",
   "execution_count": 88,
   "id": "5456d84a",
   "metadata": {},
   "outputs": [],
   "source": [
    "gpt_prompt = create_prompt(akdan, start_index, end_index )"
   ]
  },
  {
   "cell_type": "code",
   "execution_count": 89,
   "id": "d4175ef7",
   "metadata": {},
   "outputs": [
    {
     "data": {
      "text/plain": [
       "'\"■ 개인정보의 수집 및 이용목적\\n회사는 수집한 개인정보를 다음의 목적을 위해 활용합니다.\\no 서비스 제공에 관한 계약 이행 및 서비스 제공에 따른 요금정산\\n콘텐츠 제공 , 구매 및 요금 결제 , 물품배송 또는 청구지 등 발송 , 금융거래 본인 인증 및 금융 서비스\\no 회원 관리\\n회원제 서비스 이용에 따른 본인확인 , 개인 식별 , 불량회원의 부정 이용 방지와 비인가 사용 방지 , 가입 의사 확인 , 연령확인 , 만14세 미만 아동 개인정보 수집 시 법정 대리인 동의여부 확인, 불만처리 등 민원처리 , 고지사항 전달\\no 마케팅 및 광고에 활용\\n이벤트 등 광고성 정보 전달 , 접속 빈도 파악 또는 회원의 서비스 이용에 대한 통계\\n\\n\"은 이 회사의 방침이야 그리고\"개인정보 수집 항목을 전부 나열하지 않고 ‘~등’과 같이 기재하지 않도록 하고, 특히 \\n필수항목과 선택항목을 명확히 구분하여야 함\"은 개인정보처리 지침이야개인정보처리 지침을 보고 이 회사의 방침에서 잘못된 부분이 있다면 찾아서 설명해줘!'"
      ]
     },
     "execution_count": 89,
     "metadata": {},
     "output_type": "execute_result"
    }
   ],
   "source": [
    "gpt_prompt"
   ]
  },
  {
   "cell_type": "code",
   "execution_count": 92,
   "id": "b0e7f947",
   "metadata": {},
   "outputs": [
    {
     "name": "stdout",
     "output_type": "stream",
     "text": [
      "이 회사의 개인정보 수집 및 이용목적에 대한 방침에서 잘못된 부분은 다음과 같습니다:\n",
      "\n",
      "1. 개인정보 수집 항목의 명확성: 회사는 개인정보 수집 항목을 명확하게 나열하고, '등'이라는 표현을 사용하지 않아야 합니다. 이는 개인정보를 제공하는 이용자가 자신의 정보가 어떻게 사용되는지 명확히 이해할 수 있도록 하기 위함입니다. 하지만 이 회사의 방침에서는 구체적인 수집 항목을 나열하지 않고 '등'이라는 표현을 사용하고 있습니다.\n",
      "\n",
      "2. 필수항목과 선택항목의 구분: 개인정보처리 지침에 따르면, 회사는 필수항목과 선택항목을 명확히 구분하여야 합니다. 이는 이용자가 서비스 이용을 위해 반드시 제공해야 하는 정보와 선택적으로 제공할 수 있는 정보를 구분함으로써 이용자의 정보 제공에 대한 선택권을 보장하기 위함입니다. 하지만 이 회사의 방침에서는 필수항목과 선택항목에 대한 구분이 명확히 이루어지지 않고 있습니다. \n",
      "\n",
      "따라서, 이 회사는 개인정보 수집 항목을 명확히 나열하고, 필수항목과 선택항목을 명확히 구분하는 등의 개선이 필요합니다.\n"
     ]
    }
   ],
   "source": [
    "message=[{\"role\": \"user\", \"content\": gpt_prompt}]\n",
    "response = openai.ChatCompletion.create(\n",
    "    model=\"gpt-4\",\n",
    "    messages = message,\n",
    "    temperature=0.2,\n",
    "    max_tokens=1000,\n",
    "    frequency_penalty=0.0\n",
    ")\n",
    "print(response['choices'][0]['message']['content'])"
   ]
  },
  {
   "cell_type": "code",
   "execution_count": null,
   "id": "d819de0f",
   "metadata": {},
   "outputs": [],
   "source": []
  },
  {
   "cell_type": "code",
   "execution_count": null,
   "id": "cb0783da",
   "metadata": {},
   "outputs": [],
   "source": []
  },
  {
   "cell_type": "markdown",
   "id": "765d16c5",
   "metadata": {},
   "source": [
    "# Ideal Algo 2 (heuristic & keyword base)"
   ]
  },
  {
   "cell_type": "code",
   "execution_count": 233,
   "id": "2dfc4cf5",
   "metadata": {},
   "outputs": [],
   "source": [
    "# 문장 단위로 토큰화\n",
    "bob_token_dict={}\n",
    "bob_token = bob.split('\\n')\n",
    "\n",
    "\n",
    "\n",
    "cumulative_length = 0\n",
    "bob_token_dict = {}\n",
    "\n",
    "for item in bob_token:\n",
    "    bob_token_dict[item] = cumulative_length  # 현재 누적 길이를 딕셔너리에 저장\n",
    "    cumulative_length += len(item)+1 "
   ]
  },
  {
   "cell_type": "code",
   "execution_count": 234,
   "id": "d255ba07",
   "metadata": {},
   "outputs": [],
   "source": [
    "# rule별 딕셔너리 초기화\n",
    "match_rule = {'0':-1, '1':-1, '2':-1, '3':-1, '4':-1, '5':-1, '6':-1, '7':-1, '8':-1, '9':-1, \n",
    "              '10':-1, '11':-1, '12':-1, '13':-1, '14':-1, '15':-1, '16':-1,\n",
    "              '17':-1, '18':-1, '19':-1,'20':-1, '21':-1, '22':-1}\n",
    "\n",
    "for i in range(0, len(df)):\n",
    "    temp = df['keywords'][i].split(',')\n",
    "    for j in temp:\n",
    "        for k in bob_token_dict.keys():\n",
    "            position = k.find(j)\n",
    "            if position != -1:\n",
    "                index_in_bob = bob_token_dict[k]\n",
    "                match_rule[str(i)] = index_in_bob\n",
    "                break\n",
    "\n",
    "sorted_match_rule = dict(sorted(match_rule.items(), key=lambda item: item[1]))\n",
    "\n",
    "filtered_items = [(k, v) for k, v in sorted_match_rule.items() if v != -1]\n",
    "\n",
    "# 필터링된 항목을 값에 따라 오름차순 정렬\n",
    "sorted_items = sorted(filtered_items, key=lambda x: x[1])"
   ]
  },
  {
   "cell_type": "code",
   "execution_count": 235,
   "id": "41ce72ab",
   "metadata": {},
   "outputs": [],
   "source": [
    "df['keywords_matched']=\"\""
   ]
  },
  {
   "cell_type": "code",
   "execution_count": 236,
   "id": "57d36268",
   "metadata": {},
   "outputs": [],
   "source": [
    "for i, (num, position) in enumerate(sorted_items):\n",
    "    # 마지막 요소가 아니라면 end_idx를 설정, 마지막 요소라면 bob의 끝까지\n",
    "    if i != len(sorted_items) - 1:\n",
    "        end_idx = sorted_items[i+1][1] - 1\n",
    "    else:\n",
    "        end_idx = len(bob)\n",
    "    \n",
    "    df['keywords_matched'][int(num)] = bob[position:end_idx]"
   ]
  },
  {
   "cell_type": "code",
   "execution_count": 238,
   "id": "d201e9b8",
   "metadata": {},
   "outputs": [],
   "source": [
    "def create_prompt(i):\n",
    "    if(df['keywords_matched'][i]!=''):\n",
    "        target = '\\\"'+ df['keywords_matched'][i]+'\\\"'+\"은 이 회사의 방침이야 그리고\" + '\\\"'+ df['instruction'][i]+'\\\"' + \"은 개인정보처리 지침이야\"\n",
    "        target += \"개인정보처리 지침을 보고 이 회사의 방침에서 잘못된 부분이 있다면 찾아서 설명해줘!\"\n",
    "    else:\n",
    "        target=\"No Question\"\n",
    "    return target"
   ]
  },
  {
   "cell_type": "code",
   "execution_count": 252,
   "id": "a6cf1903",
   "metadata": {},
   "outputs": [],
   "source": [
    "# 병렬처리\n",
    "from concurrent.futures import ThreadPoolExecutor\n",
    "\n",
    "def get_response(i):\n",
    "    gpt_prompt = create_prompt(i)\n",
    "    if gpt_prompt != \"No Question\":\n",
    "        message = [{\"role\": \"user\", \"content\": gpt_prompt}]\n",
    "        response = openai.ChatCompletion.create(\n",
    "            model=\"gpt-4\",\n",
    "            messages=message,\n",
    "            temperature=0.2,\n",
    "            max_tokens=1000,\n",
    "            frequency_penalty=0.0\n",
    "        )\n",
    "        return response['choices'][0]['message']['content']\n",
    "    return None\n",
    "\n",
    "# 병렬처리를 위해 ThreadPoolExecutor를 사용\n",
    "with ThreadPoolExecutor(max_workers=5) as executor:\n",
    "    answers = list(executor.map(get_response, range(len(df))))\n",
    "\n",
    "# None이 아닌 응답만 연결\n",
    "answer_text = \"------------------------------------------------------------------------------------\\n\".join([ans for ans in answers if ans is not None])\n"
   ]
  },
  {
   "cell_type": "code",
   "execution_count": 253,
   "id": "7025d971",
   "metadata": {},
   "outputs": [
    {
     "name": "stdout",
     "output_type": "stream",
     "text": [
      "이 회사의 개인정보 수집 및 이용목적에 대한 방침은 대체로 개인정보처리 지침에 부합하는 것으로 보입니다. 그러나, 몇 가지 확인해야 할 부분이 있습니다.\n",
      "\n",
      "1. 개인정보 수집 및 이용목적이 구체적이고 상세하게 기재되어 있는지: 이 회사의 방침에서는 '맞춤서비스(메일링 서비스, 교육안내 등)를 비롯한 보다 더 향상된 양질의 서비스를 제공하기 위하여'라고 명시하고 있습니다. 이는 상당히 구체적이지만, 어떤 종류의 개인정보를 수집하고, 그 정보가 어떻게 사용되는지에 대한 상세한 설명이 필요합니다.\n",
      "\n",
      "2. 고유식별정보의 처리: 이 회사의 방침에서는 고유식별정보의 처리에 대해 언급하지 않았습니다. 만약 회사가 고유식별정보를 수집하거나 처리한다면, 그 이유와 목적, 그리고 정보주체로부터 별도의 동의를 받았는지에 대한 내용이 필요합니다.\n",
      "\n",
      "3. 개인정보 수집 및 이용 시 동의 받는 사항과 일치: 이 회사의 방침이 실제로 수집 및 이용하는 개인정보와 동의 받는 사항이 일치하는지 확인해야 합니다.\n",
      "\n",
      "이러한 부분들을 확인하고 필요한 경우 수정하면, 이 회사의 개인정보 수집 및 이용목적에 대한 방침이 개인정보처리 지침에 더욱 부합하게 될 것입니다.------------------------------------------------\n",
      "이 회사의 방침에서 잘못된 부분은 다음과 같습니다.\n",
      "\n",
      "1. 개인정보의 보유 및 이용기간: 회사의 방침에서는 \"회원으로서 한국정보기술연구원에 제공하는 서비스를 이용하는 동안 연구원은 회원의 개인정보를 계속적으로 보유하며 서비스 제공 등을 위해 이용합니다.\"라고 명시되어 있습니다. 하지만 개인정보처리 지침에 따르면, 개인정보의 보유 기간은 '목적 달성시' 와 같이 추상적으로 기재하지 않고 구체적으로 기재해야 합니다. 따라서 이 부분은 개인정보처리 지침에 어긋납니다.\n",
      "\n",
      "2. 개인정보의 파기: 회사의 방침에서는 \"개인정보의 수집목적이 달성되면 파기하는 것을 원칙으로 합니다.\"라고 명시되어 있습니다. 하지만 개인정보처리 지침에 따르면, 개인정보의 파기는 정보주체로부터 동의 받은 ‘보유·이용 기간’ 또는 법령에 따른 ‘보유·이용기간’에 따라야 합니다. 따라서 이 부분도 개인정보처리 지침에 어긋납니다.\n",
      "\n",
      "3. 개인정보의 이용: 회사의 방침에서는 \"한국정보기술연구원은 보관하는 정보를 그 보관 목적으로만 이용합니다.\"라고 명시되어 있습니다. 하지만 개인정보처리 지침에 따르면, 개인정보의 이용은 정보주체로부터 동의 받은 범위 내에서만 이용할 수 있습니다. 따라서 이 부분도 개인정보처리 지침에 어긋납니다.------------------------------------------------\n",
      "이 회사의 방침에서는 홈페이지 회원가입과 게시판 글쓰기를 통해 수집하는 개인정보 항목을 명시하였습니다. 그러나 개인정보처리 지침에 따르면, 수집목적에 필요한 최소한의 정보(필수항목)와 그 외의 정보(선택항목)를 구분하여 기재해야 합니다. 이 회사의 방침에서는 이러한 구분이 명확하게 이루어지지 않았습니다.\n",
      "\n",
      "또한, 개인정보처리 지침에 따르면, 해당 사무 처리 과정이나 서비스 제공 과정에서 자동으로 생성·수집되는 개인정보 항목이 있는 경우에는 해당 업무와 개인정보 항목을 명시해야 합니다. 이 회사의 방침에서는 이러한 내용이 포함되어 있지 않습니다.\n",
      "\n",
      "마지막으로, 개인정보처리 지침에서는 '2. 개인정보의 처리목적', '3. 개인정보의 처리 및 보유 기간'을 하나의 표로 같이 구성하여 정보주체가 알기 쉽도록 작성할 수 있다고 권장하고 있습니다. 이 회사의 방침에서는 이러한 내용이 포함되어 있지 않습니다.\n",
      "\n",
      "따라서 이 회사의 방침은 개인정보처리 지침에 따라 필수항목과 선택항목의 구분, 자동 생성·수집되는 개인정보 항목의 명시, 그리고 개인정보의 처리목적과 보유 기간을 포함한 표의 작성 등을 고려하여 수정되어야 합니다.------------------------------------------------\n",
      "이 회사의 방침에서는 개인정보를 열람 또는 정정하고자 할 때 아이디와 이름을 제외하고 직접 열람 또는 정정하라고 되어 있습니다. 하지만 개인정보처리 지침에 따르면, 정보주체는 자신의 개인정보를 언제든지 열람하거나 정정할 수 있는 권리가 있습니다. 따라서 아이디와 이름을 제외한 다른 개인정보도 열람하거나 정정할 수 있어야 합니다.\n",
      "\n",
      "또한, 이 회사의 방침에서는 개인정보의 제3자 제공에 대한 언급이 없습니다. 하지만 개인정보처리 지침에 따르면, 개인정보를 제3자에게 제공하는 경우에는 정보주체의 동의를 받거나 법률 규정, 공공기관 소관업무 수행, 급박한 생명·신체·재산상 이익 등에 따라 동의 없이 제공할 수 있음을 명확하게 기재해야 합니다. 따라서 이 회사의 방침에도 개인정보의 제3자 제공에 대한 내용이 포함되어야 합니다.\n",
      "\n",
      "마지막으로, 이 회사의 방침에서는 개인정보를 제공받는 자(제3자)를 명확하게 기재하지 않았습니다. 개인정보처리 지침에 따르면, 개인정보를 제공받는 자는 '등' 또는 'A업체 등 O개사'로 축약하지 않아야 합니다. 따라서 이 회사의 방침에서도 개인정보를 제공받는 자를 명확하게 기재해야 합니다.------------------------------------------------\n",
      "이 회사의 개인정보 보호책임자에 대한 정보는 개인정보처리 지침에 따라 잘 기재되어 있습니다. 성명, 부서명, 전화번호, 이메일 주소 등 필요한 정보가 모두 포함되어 있습니다. \n",
      "\n",
      "그러나, 개인정보처리 지침에 따르면 개인정보 보호책임자 이외에도 개인정보처리자의 필요에 따라 개인정보보호 담당부서, 담당자 등을 기재하는 것이 권장된다고 합니다. 이 회사의 방침에서는 개인정보 보호책임자 외에 다른 담당부서나 담당자에 대한 정보는 제공되지 않았습니다. 이 부분을 보완하여 회원들이 필요한 경우 다른 담당부서나 담당자에게도 연락할 수 있도록 정보를 제공하는 것이 좋을 것 같습니다.\n"
     ]
    }
   ],
   "source": [
    "print(answer_text)"
   ]
  },
  {
   "cell_type": "code",
   "execution_count": 248,
   "id": "33c2b676",
   "metadata": {},
   "outputs": [
    {
     "ename": "RateLimitError",
     "evalue": "You exceeded your current quota, please check your plan and billing details.",
     "output_type": "error",
     "traceback": [
      "\u001b[1;31m---------------------------------------------------------------------------\u001b[0m",
      "\u001b[1;31mRateLimitError\u001b[0m                            Traceback (most recent call last)",
      "Cell \u001b[1;32mIn[248], line 6\u001b[0m\n\u001b[0;32m      4\u001b[0m \u001b[38;5;28;01mif\u001b[39;00m(gpt_prompt\u001b[38;5;241m!=\u001b[39m\u001b[38;5;124m\"\u001b[39m\u001b[38;5;124mNo Question\u001b[39m\u001b[38;5;124m\"\u001b[39m):\n\u001b[0;32m      5\u001b[0m     message\u001b[38;5;241m=\u001b[39m[{\u001b[38;5;124m\"\u001b[39m\u001b[38;5;124mrole\u001b[39m\u001b[38;5;124m\"\u001b[39m: \u001b[38;5;124m\"\u001b[39m\u001b[38;5;124muser\u001b[39m\u001b[38;5;124m\"\u001b[39m, \u001b[38;5;124m\"\u001b[39m\u001b[38;5;124mcontent\u001b[39m\u001b[38;5;124m\"\u001b[39m: gpt_prompt}]\n\u001b[1;32m----> 6\u001b[0m     response \u001b[38;5;241m=\u001b[39m \u001b[43mopenai\u001b[49m\u001b[38;5;241;43m.\u001b[39;49m\u001b[43mChatCompletion\u001b[49m\u001b[38;5;241;43m.\u001b[39;49m\u001b[43mcreate\u001b[49m\u001b[43m(\u001b[49m\n\u001b[0;32m      7\u001b[0m \u001b[43m        \u001b[49m\u001b[43mmodel\u001b[49m\u001b[38;5;241;43m=\u001b[39;49m\u001b[38;5;124;43m\"\u001b[39;49m\u001b[38;5;124;43mgpt-4\u001b[39;49m\u001b[38;5;124;43m\"\u001b[39;49m\u001b[43m,\u001b[49m\n\u001b[0;32m      8\u001b[0m \u001b[43m        \u001b[49m\u001b[43mmessages\u001b[49m\u001b[43m \u001b[49m\u001b[38;5;241;43m=\u001b[39;49m\u001b[43m \u001b[49m\u001b[43mmessage\u001b[49m\u001b[43m,\u001b[49m\n\u001b[0;32m      9\u001b[0m \u001b[43m        \u001b[49m\u001b[43mtemperature\u001b[49m\u001b[38;5;241;43m=\u001b[39;49m\u001b[38;5;241;43m0.2\u001b[39;49m\u001b[43m,\u001b[49m\n\u001b[0;32m     10\u001b[0m \u001b[43m        \u001b[49m\u001b[43mmax_tokens\u001b[49m\u001b[38;5;241;43m=\u001b[39;49m\u001b[38;5;241;43m1000\u001b[39;49m\u001b[43m,\u001b[49m\n\u001b[0;32m     11\u001b[0m \u001b[43m        \u001b[49m\u001b[43mfrequency_penalty\u001b[49m\u001b[38;5;241;43m=\u001b[39;49m\u001b[38;5;241;43m0.0\u001b[39;49m\n\u001b[0;32m     12\u001b[0m \u001b[43m    \u001b[49m\u001b[43m)\u001b[49m\n\u001b[0;32m     13\u001b[0m     answer_text \u001b[38;5;241m+\u001b[39m\u001b[38;5;241m=\u001b[39m (response[\u001b[38;5;124m'\u001b[39m\u001b[38;5;124mchoices\u001b[39m\u001b[38;5;124m'\u001b[39m][\u001b[38;5;241m0\u001b[39m][\u001b[38;5;124m'\u001b[39m\u001b[38;5;124mmessage\u001b[39m\u001b[38;5;124m'\u001b[39m][\u001b[38;5;124m'\u001b[39m\u001b[38;5;124mcontent\u001b[39m\u001b[38;5;124m'\u001b[39m] \u001b[38;5;241m+\u001b[39m \u001b[38;5;124m\"\u001b[39m\u001b[38;5;130;01m\\n\u001b[39;00m\u001b[38;5;124m\"\u001b[39m)\n",
      "File \u001b[1;32m~\\anaconda3\\lib\\site-packages\\openai\\api_resources\\chat_completion.py:25\u001b[0m, in \u001b[0;36mChatCompletion.create\u001b[1;34m(cls, *args, **kwargs)\u001b[0m\n\u001b[0;32m     23\u001b[0m \u001b[38;5;28;01mwhile\u001b[39;00m \u001b[38;5;28;01mTrue\u001b[39;00m:\n\u001b[0;32m     24\u001b[0m     \u001b[38;5;28;01mtry\u001b[39;00m:\n\u001b[1;32m---> 25\u001b[0m         \u001b[38;5;28;01mreturn\u001b[39;00m \u001b[38;5;28msuper\u001b[39m()\u001b[38;5;241m.\u001b[39mcreate(\u001b[38;5;241m*\u001b[39margs, \u001b[38;5;241m*\u001b[39m\u001b[38;5;241m*\u001b[39mkwargs)\n\u001b[0;32m     26\u001b[0m     \u001b[38;5;28;01mexcept\u001b[39;00m TryAgain \u001b[38;5;28;01mas\u001b[39;00m e:\n\u001b[0;32m     27\u001b[0m         \u001b[38;5;28;01mif\u001b[39;00m timeout \u001b[38;5;129;01mis\u001b[39;00m \u001b[38;5;129;01mnot\u001b[39;00m \u001b[38;5;28;01mNone\u001b[39;00m \u001b[38;5;129;01mand\u001b[39;00m time\u001b[38;5;241m.\u001b[39mtime() \u001b[38;5;241m>\u001b[39m start \u001b[38;5;241m+\u001b[39m timeout:\n",
      "File \u001b[1;32m~\\anaconda3\\lib\\site-packages\\openai\\api_resources\\abstract\\engine_api_resource.py:153\u001b[0m, in \u001b[0;36mEngineAPIResource.create\u001b[1;34m(cls, api_key, api_base, api_type, request_id, api_version, organization, **params)\u001b[0m\n\u001b[0;32m    127\u001b[0m \u001b[38;5;129m@classmethod\u001b[39m\n\u001b[0;32m    128\u001b[0m \u001b[38;5;28;01mdef\u001b[39;00m \u001b[38;5;21mcreate\u001b[39m(\n\u001b[0;32m    129\u001b[0m     \u001b[38;5;28mcls\u001b[39m,\n\u001b[1;32m   (...)\u001b[0m\n\u001b[0;32m    136\u001b[0m     \u001b[38;5;241m*\u001b[39m\u001b[38;5;241m*\u001b[39mparams,\n\u001b[0;32m    137\u001b[0m ):\n\u001b[0;32m    138\u001b[0m     (\n\u001b[0;32m    139\u001b[0m         deployment_id,\n\u001b[0;32m    140\u001b[0m         engine,\n\u001b[1;32m   (...)\u001b[0m\n\u001b[0;32m    150\u001b[0m         api_key, api_base, api_type, api_version, organization, \u001b[38;5;241m*\u001b[39m\u001b[38;5;241m*\u001b[39mparams\n\u001b[0;32m    151\u001b[0m     )\n\u001b[1;32m--> 153\u001b[0m     response, _, api_key \u001b[38;5;241m=\u001b[39m \u001b[43mrequestor\u001b[49m\u001b[38;5;241;43m.\u001b[39;49m\u001b[43mrequest\u001b[49m\u001b[43m(\u001b[49m\n\u001b[0;32m    154\u001b[0m \u001b[43m        \u001b[49m\u001b[38;5;124;43m\"\u001b[39;49m\u001b[38;5;124;43mpost\u001b[39;49m\u001b[38;5;124;43m\"\u001b[39;49m\u001b[43m,\u001b[49m\n\u001b[0;32m    155\u001b[0m \u001b[43m        \u001b[49m\u001b[43murl\u001b[49m\u001b[43m,\u001b[49m\n\u001b[0;32m    156\u001b[0m \u001b[43m        \u001b[49m\u001b[43mparams\u001b[49m\u001b[38;5;241;43m=\u001b[39;49m\u001b[43mparams\u001b[49m\u001b[43m,\u001b[49m\n\u001b[0;32m    157\u001b[0m \u001b[43m        \u001b[49m\u001b[43mheaders\u001b[49m\u001b[38;5;241;43m=\u001b[39;49m\u001b[43mheaders\u001b[49m\u001b[43m,\u001b[49m\n\u001b[0;32m    158\u001b[0m \u001b[43m        \u001b[49m\u001b[43mstream\u001b[49m\u001b[38;5;241;43m=\u001b[39;49m\u001b[43mstream\u001b[49m\u001b[43m,\u001b[49m\n\u001b[0;32m    159\u001b[0m \u001b[43m        \u001b[49m\u001b[43mrequest_id\u001b[49m\u001b[38;5;241;43m=\u001b[39;49m\u001b[43mrequest_id\u001b[49m\u001b[43m,\u001b[49m\n\u001b[0;32m    160\u001b[0m \u001b[43m        \u001b[49m\u001b[43mrequest_timeout\u001b[49m\u001b[38;5;241;43m=\u001b[39;49m\u001b[43mrequest_timeout\u001b[49m\u001b[43m,\u001b[49m\n\u001b[0;32m    161\u001b[0m \u001b[43m    \u001b[49m\u001b[43m)\u001b[49m\n\u001b[0;32m    163\u001b[0m     \u001b[38;5;28;01mif\u001b[39;00m stream:\n\u001b[0;32m    164\u001b[0m         \u001b[38;5;66;03m# must be an iterator\u001b[39;00m\n\u001b[0;32m    165\u001b[0m         \u001b[38;5;28;01massert\u001b[39;00m \u001b[38;5;129;01mnot\u001b[39;00m \u001b[38;5;28misinstance\u001b[39m(response, OpenAIResponse)\n",
      "File \u001b[1;32m~\\anaconda3\\lib\\site-packages\\openai\\api_requestor.py:298\u001b[0m, in \u001b[0;36mAPIRequestor.request\u001b[1;34m(self, method, url, params, headers, files, stream, request_id, request_timeout)\u001b[0m\n\u001b[0;32m    277\u001b[0m \u001b[38;5;28;01mdef\u001b[39;00m \u001b[38;5;21mrequest\u001b[39m(\n\u001b[0;32m    278\u001b[0m     \u001b[38;5;28mself\u001b[39m,\n\u001b[0;32m    279\u001b[0m     method,\n\u001b[1;32m   (...)\u001b[0m\n\u001b[0;32m    286\u001b[0m     request_timeout: Optional[Union[\u001b[38;5;28mfloat\u001b[39m, Tuple[\u001b[38;5;28mfloat\u001b[39m, \u001b[38;5;28mfloat\u001b[39m]]] \u001b[38;5;241m=\u001b[39m \u001b[38;5;28;01mNone\u001b[39;00m,\n\u001b[0;32m    287\u001b[0m ) \u001b[38;5;241m-\u001b[39m\u001b[38;5;241m>\u001b[39m Tuple[Union[OpenAIResponse, Iterator[OpenAIResponse]], \u001b[38;5;28mbool\u001b[39m, \u001b[38;5;28mstr\u001b[39m]:\n\u001b[0;32m    288\u001b[0m     result \u001b[38;5;241m=\u001b[39m \u001b[38;5;28mself\u001b[39m\u001b[38;5;241m.\u001b[39mrequest_raw(\n\u001b[0;32m    289\u001b[0m         method\u001b[38;5;241m.\u001b[39mlower(),\n\u001b[0;32m    290\u001b[0m         url,\n\u001b[1;32m   (...)\u001b[0m\n\u001b[0;32m    296\u001b[0m         request_timeout\u001b[38;5;241m=\u001b[39mrequest_timeout,\n\u001b[0;32m    297\u001b[0m     )\n\u001b[1;32m--> 298\u001b[0m     resp, got_stream \u001b[38;5;241m=\u001b[39m \u001b[38;5;28;43mself\u001b[39;49m\u001b[38;5;241;43m.\u001b[39;49m\u001b[43m_interpret_response\u001b[49m\u001b[43m(\u001b[49m\u001b[43mresult\u001b[49m\u001b[43m,\u001b[49m\u001b[43m \u001b[49m\u001b[43mstream\u001b[49m\u001b[43m)\u001b[49m\n\u001b[0;32m    299\u001b[0m     \u001b[38;5;28;01mreturn\u001b[39;00m resp, got_stream, \u001b[38;5;28mself\u001b[39m\u001b[38;5;241m.\u001b[39mapi_key\n",
      "File \u001b[1;32m~\\anaconda3\\lib\\site-packages\\openai\\api_requestor.py:700\u001b[0m, in \u001b[0;36mAPIRequestor._interpret_response\u001b[1;34m(self, result, stream)\u001b[0m\n\u001b[0;32m    692\u001b[0m     \u001b[38;5;28;01mreturn\u001b[39;00m (\n\u001b[0;32m    693\u001b[0m         \u001b[38;5;28mself\u001b[39m\u001b[38;5;241m.\u001b[39m_interpret_response_line(\n\u001b[0;32m    694\u001b[0m             line, result\u001b[38;5;241m.\u001b[39mstatus_code, result\u001b[38;5;241m.\u001b[39mheaders, stream\u001b[38;5;241m=\u001b[39m\u001b[38;5;28;01mTrue\u001b[39;00m\n\u001b[0;32m    695\u001b[0m         )\n\u001b[0;32m    696\u001b[0m         \u001b[38;5;28;01mfor\u001b[39;00m line \u001b[38;5;129;01min\u001b[39;00m parse_stream(result\u001b[38;5;241m.\u001b[39miter_lines())\n\u001b[0;32m    697\u001b[0m     ), \u001b[38;5;28;01mTrue\u001b[39;00m\n\u001b[0;32m    698\u001b[0m \u001b[38;5;28;01melse\u001b[39;00m:\n\u001b[0;32m    699\u001b[0m     \u001b[38;5;28;01mreturn\u001b[39;00m (\n\u001b[1;32m--> 700\u001b[0m         \u001b[38;5;28;43mself\u001b[39;49m\u001b[38;5;241;43m.\u001b[39;49m\u001b[43m_interpret_response_line\u001b[49m\u001b[43m(\u001b[49m\n\u001b[0;32m    701\u001b[0m \u001b[43m            \u001b[49m\u001b[43mresult\u001b[49m\u001b[38;5;241;43m.\u001b[39;49m\u001b[43mcontent\u001b[49m\u001b[38;5;241;43m.\u001b[39;49m\u001b[43mdecode\u001b[49m\u001b[43m(\u001b[49m\u001b[38;5;124;43m\"\u001b[39;49m\u001b[38;5;124;43mutf-8\u001b[39;49m\u001b[38;5;124;43m\"\u001b[39;49m\u001b[43m)\u001b[49m\u001b[43m,\u001b[49m\n\u001b[0;32m    702\u001b[0m \u001b[43m            \u001b[49m\u001b[43mresult\u001b[49m\u001b[38;5;241;43m.\u001b[39;49m\u001b[43mstatus_code\u001b[49m\u001b[43m,\u001b[49m\n\u001b[0;32m    703\u001b[0m \u001b[43m            \u001b[49m\u001b[43mresult\u001b[49m\u001b[38;5;241;43m.\u001b[39;49m\u001b[43mheaders\u001b[49m\u001b[43m,\u001b[49m\n\u001b[0;32m    704\u001b[0m \u001b[43m            \u001b[49m\u001b[43mstream\u001b[49m\u001b[38;5;241;43m=\u001b[39;49m\u001b[38;5;28;43;01mFalse\u001b[39;49;00m\u001b[43m,\u001b[49m\n\u001b[0;32m    705\u001b[0m \u001b[43m        \u001b[49m\u001b[43m)\u001b[49m,\n\u001b[0;32m    706\u001b[0m         \u001b[38;5;28;01mFalse\u001b[39;00m,\n\u001b[0;32m    707\u001b[0m     )\n",
      "File \u001b[1;32m~\\anaconda3\\lib\\site-packages\\openai\\api_requestor.py:763\u001b[0m, in \u001b[0;36mAPIRequestor._interpret_response_line\u001b[1;34m(self, rbody, rcode, rheaders, stream)\u001b[0m\n\u001b[0;32m    761\u001b[0m stream_error \u001b[38;5;241m=\u001b[39m stream \u001b[38;5;129;01mand\u001b[39;00m \u001b[38;5;124m\"\u001b[39m\u001b[38;5;124merror\u001b[39m\u001b[38;5;124m\"\u001b[39m \u001b[38;5;129;01min\u001b[39;00m resp\u001b[38;5;241m.\u001b[39mdata\n\u001b[0;32m    762\u001b[0m \u001b[38;5;28;01mif\u001b[39;00m stream_error \u001b[38;5;129;01mor\u001b[39;00m \u001b[38;5;129;01mnot\u001b[39;00m \u001b[38;5;241m200\u001b[39m \u001b[38;5;241m<\u001b[39m\u001b[38;5;241m=\u001b[39m rcode \u001b[38;5;241m<\u001b[39m \u001b[38;5;241m300\u001b[39m:\n\u001b[1;32m--> 763\u001b[0m     \u001b[38;5;28;01mraise\u001b[39;00m \u001b[38;5;28mself\u001b[39m\u001b[38;5;241m.\u001b[39mhandle_error_response(\n\u001b[0;32m    764\u001b[0m         rbody, rcode, resp\u001b[38;5;241m.\u001b[39mdata, rheaders, stream_error\u001b[38;5;241m=\u001b[39mstream_error\n\u001b[0;32m    765\u001b[0m     )\n\u001b[0;32m    766\u001b[0m \u001b[38;5;28;01mreturn\u001b[39;00m resp\n",
      "\u001b[1;31mRateLimitError\u001b[0m: You exceeded your current quota, please check your plan and billing details."
     ]
    }
   ],
   "source": [
    "# 병렬처리 X\n",
    "answer_text = \"\"\n",
    "for i in range(0, len(df)):\n",
    "    gpt_prompt = create_prompt(i)\n",
    "    if(gpt_prompt!=\"No Question\"):\n",
    "        message=[{\"role\": \"user\", \"content\": gpt_prompt}]\n",
    "        response = openai.ChatCompletion.create(\n",
    "            model=\"gpt-4\",\n",
    "            messages = message,\n",
    "            temperature=0.2,\n",
    "            max_tokens=1000,\n",
    "            frequency_penalty=0.0\n",
    "        )\n",
    "        answer_text += (response['choices'][0]['message']['content'] + \"\\n\")"
   ]
  },
  {
   "cell_type": "code",
   "execution_count": null,
   "id": "b992cf00",
   "metadata": {},
   "outputs": [],
   "source": []
  },
  {
   "cell_type": "code",
   "execution_count": null,
   "id": "fef2dcf6",
   "metadata": {},
   "outputs": [],
   "source": []
  },
  {
   "cell_type": "markdown",
   "id": "c66290d0",
   "metadata": {},
   "source": [
    "# available algo"
   ]
  },
  {
   "cell_type": "code",
   "execution_count": 109,
   "id": "36ba6963",
   "metadata": {},
   "outputs": [],
   "source": [
    "def create_prompt(text, i):\n",
    "    target = text\n",
    "    target = '\\\"'+ target+'\\\"'+\"은 이 회사의 방침이야 그리고\" + '\\\"'+ df['instruction'][i]+'\\\"' + \"은 개인정보처리 지침이야\"\n",
    "    target += \"개인정보처리 지침을 보고 이 회사의 방침에서 잘못된 부분이 있다면 찾아서 설명해줘!\"\n",
    "    return target"
   ]
  },
  {
   "cell_type": "code",
   "execution_count": 110,
   "id": "5509aa91",
   "metadata": {},
   "outputs": [
    {
     "data": {
      "text/html": [
       "<div>\n",
       "<style scoped>\n",
       "    .dataframe tbody tr th:only-of-type {\n",
       "        vertical-align: middle;\n",
       "    }\n",
       "\n",
       "    .dataframe tbody tr th {\n",
       "        vertical-align: top;\n",
       "    }\n",
       "\n",
       "    .dataframe thead th {\n",
       "        text-align: right;\n",
       "    }\n",
       "</style>\n",
       "<table border=\"1\" class=\"dataframe\">\n",
       "  <thead>\n",
       "    <tr style=\"text-align: right;\">\n",
       "      <th></th>\n",
       "      <th>part</th>\n",
       "      <th>instruction</th>\n",
       "    </tr>\n",
       "  </thead>\n",
       "  <tbody>\n",
       "    <tr>\n",
       "      <th>0</th>\n",
       "      <td>개인정보의 처리목적</td>\n",
       "      <td>개인정보 수집 항목을 전부 나열하지 않고 ‘~등’과 같이 기재하지 않도록 하고, 특...</td>\n",
       "    </tr>\n",
       "    <tr>\n",
       "      <th>1</th>\n",
       "      <td>개인정보의 처리 및 보유 기간</td>\n",
       "      <td>정보주체로부터 동의 받은 ‘보유·이용 기간’ 또는 법령에 따른 ‘보유·이용기간’에 ...</td>\n",
       "    </tr>\n",
       "  </tbody>\n",
       "</table>\n",
       "</div>"
      ],
      "text/plain": [
       "               part                                        instruction\n",
       "0        개인정보의 처리목적  개인정보 수집 항목을 전부 나열하지 않고 ‘~등’과 같이 기재하지 않도록 하고, 특...\n",
       "1  개인정보의 처리 및 보유 기간  정보주체로부터 동의 받은 ‘보유·이용 기간’ 또는 법령에 따른 ‘보유·이용기간’에 ..."
      ]
     },
     "execution_count": 110,
     "metadata": {},
     "output_type": "execute_result"
    }
   ],
   "source": [
    "df"
   ]
  },
  {
   "cell_type": "code",
   "execution_count": 119,
   "id": "44f14f78",
   "metadata": {},
   "outputs": [],
   "source": [
    "answer_text = \"\"\n",
    "\n",
    "for i in range(0, len(df)):\n",
    "    gpt_prompt = create_prompt(akdan, i)\n",
    "\n",
    "    message=[{\"role\": \"user\", \"content\": gpt_prompt}]\n",
    "    response = openai.ChatCompletion.create(\n",
    "        model=\"gpt-4\",\n",
    "        messages = message,\n",
    "        temperature=0.2,\n",
    "        max_tokens=1000,\n",
    "        frequency_penalty=0.0\n",
    "    )\n",
    "    answer_text += (response['choices'][0]['message']['content'] + \"\\n\")"
   ]
  },
  {
   "cell_type": "code",
   "execution_count": 112,
   "id": "80cf851c",
   "metadata": {
    "scrolled": true
   },
   "outputs": [
    {
     "name": "stdout",
     "output_type": "stream",
     "text": [
      "이 회사의 개인정보처리방침에서는 수집하는 개인정보 항목을 나열하면서 \"~등\"이라는 표현을 사용하고 있습니다. 이는 개인정보처리 지침에 따르면 적절하지 않은 표현입니다. 지침에 따르면, 수집하는 개인정보 항목을 전부 나열하고, 특히 필수항목과 선택항목을 명확히 구분하여야 합니다. 따라서 이 부분을 수정하여 개인정보 항목을 명확히 나열하고, 필수항목과 선택항목을 구분해야 합니다.\n",
      "\n",
      "또한, 개인정보의 수집 및 이용목적, 개인정보의 보유 및 이용기간 등도 구체적으로 명시해야 합니다. 이 회사의 개인정보처리방침에서는 이러한 내용들이 포함되어 있지만, 더욱 구체적인 내용으로 수정되어야 할 필요가 있습니다. 예를 들어, \"서비스 제공에 관한 계약 이행\"이라는 표현 대신 어떤 서비스를 제공하는지, \"oo년간 회원의 정보를 보유\"라는 표현 대신 구체적인 기간을 명시하는 것이 필요합니다. \n",
      "\n",
      "이 외에도 개인정보의 파기절차 및 방법, 개인정보 제공 및 위탁, 이용자 및 법정대리인의 권리와 그 행사방법 등에 대한 내용도 포함되어 있어야 합니다. 이 회사의 개인정보처리방침에서는 이러한 내용들이 포함되어 있으나, 필요한 경우 더욱 구체적인 내용으로 수정될 수 있습니다.\n",
      "이 회사의 개인정보 처리 방침은 대체로 개인정보 처리 지침에 맞게 잘 작성되어 있습니다. 그러나, 몇 가지 수정이 필요한 부분이 있습니다.\n",
      "\n",
      "1. 개인정보의 보유 및 이용기간: 이 부분에서 '이용계약 해지일로부터 oo년간 회원의 정보를 보유할 수 있습니다.'라고 명시되어 있습니다. 이 'oo' 부분은 구체적인 기간으로 변경되어야 합니다. 또한, 이 기간은 정보주체로부터 동의를 받아야 하며, 법령에 따른 보유·이용기간과 일치해야 합니다.\n",
      "\n",
      "2. 개인정보의 파기절차 및 방법: 이 부분에서 '별도의 DB로 옮겨져(종이의 경우 별도의 서류함) 내부 방침 및 기타 관련 법령에 의한 정보보호 사유에 따라(보유 및 이용기간 참조) 일정 기간 저장된 후 파기되어집니다.'라고 명시되어 있습니다. 이 '일정 기간' 역시 구체적인 기간으로 명시되어야 합니다.\n",
      "\n",
      "3. 개인정보보호담당자 및 개인정보보호책임자: 이 부분에서 담당자의 성명과 소속, 전화번호, 이메일이 'OOO'와 'OO-OOO-OOOO'로 표시되어 있습니다. 이 부분은 실제 담당자의 정보로 변경되어야 합니다.\n",
      "\n",
      "이 외에도, 개인정보 처리 방침은 회사의 실제 상황과 일치하도록 지속적으로 업데이트되어야 합니다. 따라서, 이 회사의 개인정보 처리 방침은 정기적으로 검토하고 필요한 경우 업데이트하는 것이 좋습니다.\n",
      "\n"
     ]
    }
   ],
   "source": [
    "print(answer_text)"
   ]
  },
  {
   "cell_type": "code",
   "execution_count": 124,
   "id": "ec63d8db",
   "metadata": {},
   "outputs": [
    {
     "data": {
      "text/plain": [
       "'\"  ** 본 양식은 쇼핑몰 운영에 도움을 드리고자 샘플로 제공되는 서식으로 쇼핑몰 운영형태에 따른 수정이 필요합니다. 쇼핑몰에 적용하시기 전, 쇼핑몰 운영 사항 등을 확인하시고 적절한 내용을 반영하여 사용하시기 바랍니다. **\\n\\n(주)○○○은 (이하 \"회사\"는) 고객님의 개인정보를 중요시하며, \"개인정보 보호법\" 등 관련 법령을 준수하고 있습니다.\\n회사는 개인정보처리방침을 통하여 고객님께서 제공하시는 개인정보가 어떠한 용도와 방식으로 이용되고 있으며, 개인정보보호를 위해 어떠한 조치가 취해지고 있는지 알려드립니다.\\n\\n■ 수집하는 개인정보 항목 및 수집방법\\n가. 수집하는 개인정보의 항목\\no 회사는 회원가입, 상담, 서비스 신청 등을 위해 아래와 같은 개인정보를 수집하고 있습니다.\\n- 회원가입시 : 이름 , 생년월일 , 성별 , 로그인ID , 비밀번호 , 자택 전화번호 , 휴대전화번호 , 이메일 , 14세미만 가입자의 경우 법정대리인의 정보\\n- 서비스 신청시 : 주소, 결제 정보\\n\\no 서비스 이용 과정이나 사업 처리 과정에서 서비스이용기록, 접속로그, 쿠키, 접속 IP, 결제 기록, 불량이용 기록이 생성되어 수집될 수 있습니다.\\n\\n나. 수집방법\\n- 홈페이지, 서면양식, 게시판, 이메일, 이벤트 응모, 배송요청, 전화, 팩스, 생성 정보 수집 툴을 통한 수집\\n\\n■ 개인정보의 수집 및 이용목적\\n회사는 수집한 개인정보를 다음의 목적을 위해 활용합니다.\\no 서비스 제공에 관한 계약 이행 및 서비스 제공에 따른 요금정산\\n콘텐츠 제공 , 구매 및 요금 결제 , 물품배송 또는 청구지 등 발송 , 금융거래 본인 인증 및 금융 서비스\\no 회원 관리\\n회원제 서비스 이용에 따른 본인확인 , 개인 식별 , 불량회원의 부정 이용 방지와 비인가 사용 방지 , 가입 의사 확인 , 연령확인 , 만14세 미만 아동 개인정보 수집 시 법정 대리인 동의여부 확인, 불만처리 등 민원처리 , 고지사항 전달\\no 마케팅 및 광고에 활용\\n이벤트 등 광고성 정보 전달 , 접속 빈도 파악 또는 회원의 서비스 이용에 대한 통계\\n\\n■ 개인정보의 보유 및 이용기간\\n원칙적으로, 개인정보 수집 및 이용목적이 달성된 후에는 해당 정보를 지체 없이 파기합니다. 단, 다음의 정보에 대해서는 아래의 이유로 명시한 기간 동안 보존합니다.\\n\\n가. 회사 내부방침에 의한 정보보유 사유\\n 회원이 탈퇴한 경우에도 불량회원의 부정한 이용의 재발을 방지, 분쟁해결 및 수사기관의 요청에 따른 협조를 위하여, 이용계약 해지일로부터 oo년간 회원의 정보를 보유할 수 있습니다.\\n\\n나. 관련 법령에 의한 정보 보유 사유\\n전자상거래등에서의소비자보호에관한법률 등 관계법령의 규정에 의하여 보존할 필요가 있는 경우 회사는 아래와 같이 관계법령에서 정한 일정한 기간 동안 회원정보를 보관합니다.\\no 계약 또는 청약철회 등에 관한 기록\\n-보존이유 : 전자상거래등에서의소비자보호에관한법률\\n-보존기간 : 5년\\no 대금 결제 및 재화 등의 공급에 관한 기록\\n-보존이유: 전자상거래등에서의소비자보호에관한법률\\n-보존기간 : 5년\\no 소비자 불만 또는 분쟁처리에 관한 기록\\n-보존이유 : 전자상거래등에서의소비자보호에관한법률\\n-보존기간 : 3년\\no 로그 기록\\n-보존이유: 통신비밀보호법\\n-보존기간 : 3개월\\n\\n■ 개인정보의 파기절차 및 방법\\n회사는 원칙적으로 개인정보 수집 및 이용목적이 달성된 후에는 해당 정보를 지체없이 파기합니다. 파기절차 및 방법은 다음과 같습니다.\\no 파기절차\\n회원님이 회원가입 등을 위해 입력하신 정보는 목적이 달성된 후 별도의 DB로 옮겨져(종이의 경우 별도의 서류함) 내부 방침 및 기타 관련 법령에 의한 정보보호 사유에 따라(보유 및 이용기간 참조) 일정 기간 저장된 후 파기되어집니다.\\n별도 DB로 옮겨진 개인정보는 법률에 의한 경우가 아니고서는 보유되어지는 이외의 다른 목적으로 이용되지 않습니다.\\no 파기방법\\n전자적 파일형태로 저장된 개인정보는 기록을 재생할 수 없는 기술적 방법을 사용하여 삭제합니다.\\n\\n■ 개인정보 제공\\n회사는 이용자의 개인정보를 원칙적으로 외부에 제공하지 않습니다. 다만, 아래의 경우에는 예외로 합니다.\\no 이용자들이 사전에 동의한 경우\\no 법령의 규정에 의거하거나, 수사 목적으로 법령에 정해진 절차와 방법에 따라 수사기관의 요구가 있는 경우\\n\\n■ 수집한 개인정보의 위탁\\n회사는 서비스 이행을 위해 아래와 같이 외부 전문업체에 위탁하여 운영하고 있습니다.\\no 위탁 대상자 : [택배사 이름]\\no 위탁업무 내용 : [택배사 위탁 내용]\\n\\no 위탁 대상자 : [PG사 이름]\\no 위탁업무 내용 : [PG사 위탁 내용]\\n\\no 위탁 대상자 : 공급업체 목록보기\\no 위탁업무 내용 : [위탁업무 내용]\\n\\n\\n■ 이용자 및 법정대리인의 권리와 그 행사방법\\no 이용자는 언제든지 등록되어 있는 자신의 개인정보를 조회하거나 수정할 수 있으며 가입해지를 요청할 수도 있습니다.\\no 이용자들의 개인정보 조회,수정을 위해서는 \"개인정보변경\"(또는 \"회원정보수정\" 등)을 가입해지(동의철회)를 위해서는 \"회원탈퇴\"를 클릭하여 본인 확인 절차를 거치신 후 직접 열람, 정정 또는 탈퇴가 가능합니다.\\no 혹은 개인정보보호책임자에게 서면, 전화 또는 이메일로 연락하시면 지체없이 조치하겠습니다.\\no 귀하가 개인정보의 오류에 대한 정정을 요청하신 경우에는 정정을 완료하기 전까지 당해 개인정보를 이용 또는 제공하지 않습니다. 또한 잘못된 개인정보를 제3자에게 이미 제공한 경우에는 정정 처리결과를 제3자에게 지체없이 통지하여 정정이 이루어지도록 하겠습니다.\\no 회사는 이용자의 요청에 의해 해지 또는 삭제된 개인정보는 \"회사가 수집하는 개인정보의 보유 및 이용기간\"에 명시된 바에 따라 처리하고 그 외의 용도로 열람 또는 이용할 수 없도록 처리하고 있습니다.\\n\\n■ 개인정보 자동수집 장치의 설치, 운영 및 그 거부에 관한 사항\\n회사는 귀하의 정보를 수시로 저장하고 찾아내는 \"쿠키(cookie)\" 등을 운용합니다. 쿠키란 웹사이트를 운영하는데 이용되는 서버가 귀하의 브라우저에 보내는 아주 작은 텍스트 파일로서 귀하의 컴퓨터 하드디스크에 저장됩니다.\\n회사은(는) 다음과 같은 목적을 위해 쿠키를 사용합니다.\\no 쿠키 등 사용 목적\\n1. 회원과 비회원의 접속 빈도나 방문 시간 등을 분석, 이용자의 취향과 관심분야를 파악 및 자취 추적, 각종 이벤트 참여 정도 및 방문 회수 파악 등을 통한 타겟 마케팅 및 개인 맞춤 서비스 제공\\n2. 귀하는 쿠키 설치에 대한 선택권을 가지고 있습니다. 따라서, 귀하는 웹브라우저에서 옵션을 설정함으로써 모든 쿠키를 허용하거나, 쿠키가 저장될 때마다 확인을 거치거나, 아니면 모든 쿠키의 저장을 거부할 수도 있습니다.\\no 쿠키 설정 거부 방법\\n1. 쿠키 설정을 거부하는 방법으로는 회원님이 사용하시는 웹 브라우저의 옵션을 선택함으로써 모든 쿠키를 허용하거나 쿠키를 저장할 때마다 확인을 거치거나, 모든 쿠키의 저장을 거부할 수 있습니다.\\n2. 설정방법 예(인터넷 익스플로어의 경우) : 웹 브라우저 상단의 도구 > 인터넷 옵션 > 개인정보\\n3. 단, 귀하께서 쿠키 설치를 거부하였을 경우 서비스 제공에 어려움이 있을 수 있습니다.\\n\\n■ 개인정보에 관한 민원서비스\\n회사는 고객의 개인정보를 보호하고 개인정보와 관련한 불만을 처리하기 위하여 아래와 같이 관련 부서 및 개인정보보호책임자를 지정하고 있습니다.\\no 개인정보보호담당자\\n성명 : OOO\\n소속 : OOO\\n전화번호 : OO-OOO-OOOO\\n이메일 :\\n\\no 개인정보보호책임자\\n성명 : OOO\\n소속 : OOO\\n전화번호 : OO-OOO-OOOO\\n이메일 :\\n\\no 귀하께서는 회사의 서비스를 이용하시며 발생하는 모든 개인정보보호 관련 민원을 개인정보보호책임자 혹은 담당부서로 신고하실 수 있습니다.\\no 회사는 이용자들의 신고사항에 대해 신속하게 충분한 답변을 드릴 것입니다.\\no 기타 개인정보침해에 대한 신고나 상담이 필요하신 경우에는 아래 기관에 문의하시기 바랍니다.\\n개인정보침해신고센터 (privacy.kisa.or.kr / 국번 없이 118)\\n개인정보분쟁조정위원회 (kopico.go.kr / 1833-6972)\\n대검찰청 사이버수사과 (spo.go.kr / 지역번호+1301)\\n경찰청 사이버안전국 (cyberbureau.police.go.kr / 국번없이 182)\"은 이 회사의 방침이야 그리고\"정보주체로부터 동의 받은 ‘보유·이용 기간’ 또는 법령에 따른 ‘보유·이용기간’에 따라 \\n개인정보를 보유할 수 있다는 내용을 기재함\\n‘개인정보의 처리 목적’에서 기재한 해당 사무에 따른 구체적인 처리·보유 기간을 기재함\\n관계 법령에 개인정보의 보유 기간에 대한 근거가 있는 경우에는 해당 법령명 및 조문번호, \\n법령에서 정한 보유기간을 기재함보유 기간은 ‘목적 달성시’ 와 같이 추상적으로 기재하지 않고 구체적으로 기재하여야 하며, \\n개인정보 수집·이용 시 동의 받는 사항과 일치하도록 기재하여야 함\"은 개인정보처리 지침이야개인정보처리 지침을 보고 이 회사의 방침에서 잘못된 부분이 있다면 찾아서 설명해줘!'"
      ]
     },
     "execution_count": 124,
     "metadata": {},
     "output_type": "execute_result"
    }
   ],
   "source": [
    "gpt_prompt"
   ]
  },
  {
   "cell_type": "code",
   "execution_count": 121,
   "id": "d1c6b284",
   "metadata": {},
   "outputs": [],
   "source": [
    "import concurrent.futures\n",
    "\n",
    "def get_gpt_response(i):\n",
    "    gpt_prompt = create_prompt(akdan, i)\n",
    "    message=[{\"role\": \"user\", \"content\": gpt_prompt}]\n",
    "    response = openai.ChatCompletion.create(\n",
    "        model=\"gpt-4\",\n",
    "        messages=message,\n",
    "        temperature=0.2,\n",
    "        max_tokens=1000,\n",
    "        frequency_penalty=0.0\n",
    "    )\n",
    "    return response['choices'][0]['message']['content']\n",
    "\n",
    "answer_texts = []\n",
    "\n",
    "with concurrent.futures.ThreadPoolExecutor() as executor:\n",
    "    for answer in executor.map(get_gpt_response, range(len(df))):\n",
    "        answer_texts.append(answer + \"\\n\")\n",
    "\n",
    "answer_text = \"\".join(answer_texts)\n"
   ]
  },
  {
   "cell_type": "code",
   "execution_count": 122,
   "id": "0515b074",
   "metadata": {},
   "outputs": [
    {
     "name": "stdout",
     "output_type": "stream",
     "text": [
      "이 회사의 개인정보처리방침에서 잘못된 부분은 다음과 같습니다.\n",
      "\n",
      "1. 개인정보 수집 항목: 회사는 '서비스 이용 과정이나 사업 처리 과정에서 서비스이용기록, 접속로그, 쿠키, 접속 IP, 결제 기록, 불량이용 기록이 생성되어 수집될 수 있습니다.'라고 기재하였습니다. 이 부분은 '~등'이라는 표현을 사용하지 않았지만, 구체적으로 어떤 정보를 수집하는지 명확하게 기재하지 않았습니다. 따라서 이 부분을 구체적으로 명시해야 합니다.\n",
      "\n",
      "2. 필수항목과 선택항목 구분: 회사는 개인정보 수집 항목을 나열하였지만, 이 중 어떤 항목이 필수이고 어떤 항목이 선택인지에 대해 명확하게 구분하지 않았습니다. 이 부분은 개인정보처리 지침에 따라 필수항목과 선택항목을 명확하게 구분하여 기재해야 합니다.\n",
      "\n",
      "이 두 가지 부분을 수정하여 개인정보처리방침을 개선할 수 있습니다.\n",
      "이 회사의 개인정보처리방침에서 잘못된 부분은 다음과 같습니다.\n",
      "\n",
      "1. 개인정보의 보유 및 이용기간: 이 부분에서 '이용계약 해지일로부터 oo년간 회원의 정보를 보유할 수 있습니다.'라고 되어있는데, 이 'oo년'이라는 부분은 구체적인 기간으로 명시되어야 합니다. '목적 달성시'와 같이 추상적으로 기재하지 않아야 합니다.\n",
      "\n",
      "2. 개인정보의 파기절차 및 방법: 이 부분에서 '별도의 DB로 옮겨져(종이의 경우 별도의 서류함) 내부 방침 및 기타 관련 법령에 의한 정보보호 사유에 따라(보유 및 이용기간 참조) 일정 기간 저장된 후 파기되어집니다.'라고 되어있는데, 이 '일정 기간'이라는 부분도 구체적인 기간으로 명시되어야 합니다.\n",
      "\n",
      "3. 개인정보보호책임자 및 담당자의 연락처: 이 부분에서 'OOO'와 'OO-OOO-OOOO' 등으로 표시된 부분은 실제 이름과 연락처로 바꿔야 합니다.\n",
      "\n",
      "4. 개인정보의 수집 및 이용목적: 이 부분에서 '만14세 미만 아동 개인정보 수집 시 법정 대리인 동의여부 확인'이라고 되어있는데, 만 14세 미만 아동의 개인정보를 수집하는 경우 법정 대리인의 동의를 받아야 하며, 이를 확인하는 절차가 필요합니다. 이 절차에 대한 내용이 빠져있습니다.\n",
      "\n",
      "이 외에도 개인정보처리 지침에 따라 개인정보의 수집, 이용, 보관, 파기 등의 절차가 명확하게 기술되어야 하며, 이용자의 권리와 그 권리를 행사하는 방법, 그리고 불만처리 등에 대한 절차와 방법도 명확하게 안내되어야 합니다.\n",
      "\n"
     ]
    }
   ],
   "source": [
    "print(answer_text)"
   ]
  },
  {
   "cell_type": "code",
   "execution_count": null,
   "id": "a1c02d4b",
   "metadata": {},
   "outputs": [],
   "source": []
  }
 ],
 "metadata": {
  "kernelspec": {
   "display_name": "Python 3 (ipykernel)",
   "language": "python",
   "name": "python3"
  },
  "language_info": {
   "codemirror_mode": {
    "name": "ipython",
    "version": 3
   },
   "file_extension": ".py",
   "mimetype": "text/x-python",
   "name": "python",
   "nbconvert_exporter": "python",
   "pygments_lexer": "ipython3",
   "version": "3.10.9"
  }
 },
 "nbformat": 4,
 "nbformat_minor": 5
}
