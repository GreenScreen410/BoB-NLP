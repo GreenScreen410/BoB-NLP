{
  "nbformat": 4,
  "nbformat_minor": 0,
  "metadata": {
    "colab": {
      "provenance": [],
      "gpuType": "T4"
    },
    "kernelspec": {
      "name": "python3",
      "display_name": "Python 3"
    },
    "language_info": {
      "name": "python"
    },
    "accelerator": "GPU"
  },
  "cells": [
    {
      "cell_type": "code",
      "execution_count": 1,
      "metadata": {
        "id": "_T00GRpALmMk"
      },
      "outputs": [],
      "source": [
        "%%capture\n",
        "!pip install openai\n",
        "!pip install datasets"
      ]
    },
    {
      "cell_type": "code",
      "source": [
        "import os\n",
        "import getpass\n",
        "import openai\n",
        "openai.api_key = getpass.getpass(prompt = 'OpenAI API키 입력')"
      ],
      "metadata": {
        "colab": {
          "base_uri": "https://localhost:8080/"
        },
        "id": "ecQaXX_OOOT6",
        "outputId": "7f9bbe87-6079-423c-fc4a-70aa73a80b10"
      },
      "execution_count": 2,
      "outputs": [
        {
          "name": "stdout",
          "output_type": "stream",
          "text": [
            "OpenAI API키 입력··········\n"
          ]
        }
      ]
    },
    {
      "cell_type": "code",
      "source": [],
      "metadata": {
        "id": "xaF-YXiB0Rnb"
      },
      "execution_count": null,
      "outputs": []
    },
    {
      "cell_type": "code",
      "source": [
        "dataset={\n",
        "  \"train\": [\n",
        "     {\n",
        "          \"instruction\":\"개인정보의 처리목적\\n<개인정보처리자명>은(는) 다음의 목적을 위하여 개인정보를 처리합니다. 처리하고 있는 개인정보는 다음의 목적 이외의 용도로는 이용되지 않으며, 이용목적이 변경되는 경우에는 '개인정보보호법' 제 18조에 따라 별도의 동의를 받는 등 필요한 조치를 이행할 예정입니다.\\n1. 회원가입 및 서비스 개발 등\\n회원 가입의사 확인, 신규서비스 개발 등의 목적으로 개인정보를 처리합니다. -> 여기서 잘못된 부분은 어디일까?\",\n",
        "          \"output\": \"'회원가입 및 서비스 대발 등', '회원 가입의사 확인, 신규서비스 개발 등의 목적으로 개인정보를 처리합니다.' -> 여기서 개인정보 처리방침의 수집목적은 '~등'으로 추상적으로 기재하여서는 안됩니다. 따라서 '회원 가입의사 확인, 신규서비스 개발, 마케팅(sns홍보)의 목적으로 개인정보를 처리합니다.' 이렇게 모든 항목을 기재합니다.\"\n",
        "    },\n",
        "   {\n",
        "        \"instruction\": \"개인정보의 처리목적\\n<개인정보처리자명>은(는) 다음의 목적을 위하여 개인정보를 처리합니다. '서비스 제공, 상품 송부 등' -> 여기서 잘못된 부분은 어디일까?\",\n",
        "        \"output\": \"'서비스 제공, 상품 송부 등' -> 개인정보 처리방침의 수집목적을 '~등'으로 추상적으로 기재하면 안됩니다. 따라서 '서비스 제공, 상품 송부, 고객지원 서비스' 처럼 모든 항목을 구체적으로 기재합니다.\"\n",
        "    },\n",
        "    {\n",
        "        \"instruction\": \"개인정보 수집 목적\\n회사는 고객의 동의를 얻어 '고객 상담, 상품 정보 제공 등'의 목적으로 개인정보를 사용합니다. -> 여기서 문제점은 무엇인가요?\",\n",
        "        \"output\": \"'고객 상담, 상품 정보 제공 등' -> '~등'으로 끝나는 추상적인 설명은 부적절합니다. '고객 상담, 상품 정보 제공, 고객지원' 처럼 구체적인 목적을 명시해야 합니다.\"\n",
        "    },\n",
        "    {\n",
        "        \"instruction\": \"개인정보 처리\\n당사는 다음과 같은 목적으로 '마케팅, 연구 및 개발 등' 개인정보를 수집합니다. -> 잘못된 점은 무엇인가요?\",\n",
        "        \"output\": \"'마케팅, 연구 및 개발 등' -> 개인정보 처리 목적이 '~등'으로 불명확하게 표현되어 있습니다. '마케팅, 연구 및 개발, 고객지원'과 같이 명확히 표현해야 합니다.\"\n",
        "    },\n",
        "    {\n",
        "        \"instruction\": \"개인정보 수집과 사용\\n개인정보는 '서비스 이용, 고객관리 등'을 위해 수집됩니다. -> 어느 부분이 문제인가요?\",\n",
        "        \"output\": \"'서비스 이용, 고객관리 등' -> '~등'으로 목적을 불명확하게 만들면 안됩니다. '서비스 이용, 고객관리, 신규 서비스 개발'처럼 구체적으로 표현해야 합니다.\"\n",
        "    },\n",
        "    {\n",
        "        \"instruction\": \"정보수집 목적\\n당사는 '계약 이행, 상품 발송 등'을 위해 개인정보를 사용합니다. -> 이 문장에서 수정할 점은?\",\n",
        "        \"output\": \"'계약 이행, 상품 발송 등' -> 추상적인 표현 '~등'은 피해야 합니다. '계약 이행, 상품 발송, 고객 지원'처럼 구체적으로 명시해야 합니다.\"\n",
        "    },\n",
        "    {\n",
        "        \"instruction\": \"개인정보의 활용목적\\n사용자의 개인정보는 '상품 구매, 송금 등'의 목적으로 활용됩니다. -> 어떤 부분을 수정해야 할까요?\",\n",
        "        \"output\": \"'상품 구매, 송금 등' -> '~등'으로 추상적으로 표현하면 안됩니다. '상품 구매, 송금, 고객 지원'처럼 구체적으로 명시해야 합니다.\"\n",
        "    },\n",
        "    {\n",
        "        \"instruction\": \"개인정보 처리방침\\n<회사명>은 다음 목적을 위해 개인정보를 수집합니다: '계약 이행, 마케팅 등'. -> 수정이 필요한 부분은?\",\n",
        "        \"output\": \"'계약 이행, 마케팅 등' -> 추상적인 표현 '~등'을 사용하면 안됩니다. '계약 이행, 마케팅, 고객 관리'처럼 명시적으로 표현해야 합니다.\"\n",
        "    },\n",
        "    {\n",
        "        \"instruction\": \"개인정보 수집 이유\\n당사는 '제품 제공, 서비스 관리 등'을 위해 개인정보를 수집합니다. -> 이 문장에서의 문제점은 무엇인가요?\",\n",
        "        \"output\": \"'제품 제공, 서비스 관리 등' -> 개인정보 수집 목적을 '~등'으로 추상적으로 기술하면 안됩니다. '제품 제공, 서비스 관리, 고객 지원'처럼 명확하게 명시해야 합니다.\"\n",
        "    },\n",
        "    {\n",
        "        \"instruction\": \"당사의 개인정보 처리 목적\\n회사는 다음 목적으로 개인정보를 처리합니다: '뉴스레터 전송, 고객 관리 등'. -> 여기서 문제가 되는 부분은 무엇인가요?\",\n",
        "        \"output\": \"'뉴스레터 전송, 고객 관리 등' -> 개인정보의 목적을 '~등'으로 불명확하게 표현하면 안됩니다. '뉴스레터 전송, 고객 관리, 서비스 개선'처럼 구체적으로 표현해야 합니다.\"\n",
        "    },\n",
        "    {\n",
        "        \"instruction\": \"개인정보 수집 목적 설명\\n<기업명>은 '온라인 서비스 제공, 문의 처리 등'을 위해 개인정보를 수집합니다. -> 어떤 부분을 변경해야 할까요?\",\n",
        "        \"output\": \"'온라인 서비스 제공, 문의 처리 등' -> 명확하지 않은 '~등' 표현은 피해야 합니다. '온라인 서비스 제공, 문의 처리, 고객 관리'처럼 구체적으로 명시해야 합니다.\"\n",
        "    }\n",
        "  ]\n",
        "}"
      ],
      "metadata": {
        "id": "nDKm33l2QHJY"
      },
      "execution_count": 5,
      "outputs": []
    },
    {
      "cell_type": "code",
      "source": [
        "import json\n",
        "\n",
        "list_message = []\n",
        "num_data = len(dataset[\"train\"])  # 데이터셋의 길이를 사용\n",
        "\n",
        "for i in range(num_data):\n",
        "    instruction = dataset[\"train\"][i][\"instruction\"]\n",
        "    output = dataset[\"train\"][i][\"output\"]\n",
        "    print(\"질문:\", instruction)\n",
        "    print(\"답변:\", output)\n",
        "    message = [\n",
        "        {\"role\": \"user\", \"content\": instruction},\n",
        "        {\"role\": \"assistant\", \"content\": output},\n",
        "    ]\n",
        "    list_message.append(message)\n",
        "\n",
        "with open(\"output1.jsonl\", \"w\") as file:\n",
        "    for messages in list_message:\n",
        "        json_line = json.dumps({\"messages\": messages})\n",
        "        file.write(json_line + '\\n')"
      ],
      "metadata": {
        "colab": {
          "base_uri": "https://localhost:8080/"
        },
        "id": "e4OkPK15QWIv",
        "outputId": "3494d9ae-dd3c-4dab-94fb-88d91ccf71d1"
      },
      "execution_count": 6,
      "outputs": [
        {
          "output_type": "stream",
          "name": "stdout",
          "text": [
            "질문: 개인정보의 처리목적\n",
            "<개인정보처리자명>은(는) 다음의 목적을 위하여 개인정보를 처리합니다. 처리하고 있는 개인정보는 다음의 목적 이외의 용도로는 이용되지 않으며, 이용목적이 변경되는 경우에는 '개인정보보호법' 제 18조에 따라 별도의 동의를 받는 등 필요한 조치를 이행할 예정입니다.\n",
            "1. 회원가입 및 서비스 개발 등\n",
            "회원 가입의사 확인, 신규서비스 개발 등의 목적으로 개인정보를 처리합니다. -> 여기서 잘못된 부분은 어디일까?\n",
            "답변: '회원가입 및 서비스 대발 등', '회원 가입의사 확인, 신규서비스 개발 등의 목적으로 개인정보를 처리합니다.' -> 여기서 개인정보 처리방침의 수집목적은 '~등'으로 추상적으로 기재하여서는 안됩니다. 따라서 '회원 가입의사 확인, 신규서비스 개발, 마케팅(sns홍보)의 목적으로 개인정보를 처리합니다.' 이렇게 모든 항목을 기재합니다.\n",
            "질문: 개인정보의 처리목적\n",
            "<개인정보처리자명>은(는) 다음의 목적을 위하여 개인정보를 처리합니다. '서비스 제공, 상품 송부 등' -> 여기서 잘못된 부분은 어디일까?\n",
            "답변: '서비스 제공, 상품 송부 등' -> 개인정보 처리방침의 수집목적을 '~등'으로 추상적으로 기재하면 안됩니다. 따라서 '서비스 제공, 상품 송부, 고객지원 서비스' 처럼 모든 항목을 구체적으로 기재합니다.\n",
            "질문: 개인정보 수집 목적\n",
            "회사는 고객의 동의를 얻어 '고객 상담, 상품 정보 제공 등'의 목적으로 개인정보를 사용합니다. -> 여기서 문제점은 무엇인가요?\n",
            "답변: '고객 상담, 상품 정보 제공 등' -> '~등'으로 끝나는 추상적인 설명은 부적절합니다. '고객 상담, 상품 정보 제공, 고객지원' 처럼 구체적인 목적을 명시해야 합니다.\n",
            "질문: 개인정보 처리\n",
            "당사는 다음과 같은 목적으로 '마케팅, 연구 및 개발 등' 개인정보를 수집합니다. -> 잘못된 점은 무엇인가요?\n",
            "답변: '마케팅, 연구 및 개발 등' -> 개인정보 처리 목적이 '~등'으로 불명확하게 표현되어 있습니다. '마케팅, 연구 및 개발, 고객지원'과 같이 명확히 표현해야 합니다.\n",
            "질문: 개인정보 수집과 사용\n",
            "개인정보는 '서비스 이용, 고객관리 등'을 위해 수집됩니다. -> 어느 부분이 문제인가요?\n",
            "답변: '서비스 이용, 고객관리 등' -> '~등'으로 목적을 불명확하게 만들면 안됩니다. '서비스 이용, 고객관리, 신규 서비스 개발'처럼 구체적으로 표현해야 합니다.\n",
            "질문: 정보수집 목적\n",
            "당사는 '계약 이행, 상품 발송 등'을 위해 개인정보를 사용합니다. -> 이 문장에서 수정할 점은?\n",
            "답변: '계약 이행, 상품 발송 등' -> 추상적인 표현 '~등'은 피해야 합니다. '계약 이행, 상품 발송, 고객 지원'처럼 구체적으로 명시해야 합니다.\n",
            "질문: 개인정보의 활용목적\n",
            "사용자의 개인정보는 '상품 구매, 송금 등'의 목적으로 활용됩니다. -> 어떤 부분을 수정해야 할까요?\n",
            "답변: '상품 구매, 송금 등' -> '~등'으로 추상적으로 표현하면 안됩니다. '상품 구매, 송금, 고객 지원'처럼 구체적으로 명시해야 합니다.\n",
            "질문: 개인정보 처리방침\n",
            "<회사명>은 다음 목적을 위해 개인정보를 수집합니다: '계약 이행, 마케팅 등'. -> 수정이 필요한 부분은?\n",
            "답변: '계약 이행, 마케팅 등' -> 추상적인 표현 '~등'을 사용하면 안됩니다. '계약 이행, 마케팅, 고객 관리'처럼 명시적으로 표현해야 합니다.\n",
            "질문: 개인정보 수집 이유\n",
            "당사는 '제품 제공, 서비스 관리 등'을 위해 개인정보를 수집합니다. -> 이 문장에서의 문제점은 무엇인가요?\n",
            "답변: '제품 제공, 서비스 관리 등' -> 개인정보 수집 목적을 '~등'으로 추상적으로 기술하면 안됩니다. '제품 제공, 서비스 관리, 고객 지원'처럼 명확하게 명시해야 합니다.\n",
            "질문: 당사의 개인정보 처리 목적\n",
            "회사는 다음 목적으로 개인정보를 처리합니다: '뉴스레터 전송, 고객 관리 등'. -> 여기서 문제가 되는 부분은 무엇인가요?\n",
            "답변: '뉴스레터 전송, 고객 관리 등' -> 개인정보의 목적을 '~등'으로 불명확하게 표현하면 안됩니다. '뉴스레터 전송, 고객 관리, 서비스 개선'처럼 구체적으로 표현해야 합니다.\n",
            "질문: 개인정보 수집 목적 설명\n",
            "<기업명>은 '온라인 서비스 제공, 문의 처리 등'을 위해 개인정보를 수집합니다. -> 어떤 부분을 변경해야 할까요?\n",
            "답변: '온라인 서비스 제공, 문의 처리 등' -> 명확하지 않은 '~등' 표현은 피해야 합니다. '온라인 서비스 제공, 문의 처리, 고객 관리'처럼 구체적으로 명시해야 합니다.\n"
          ]
        }
      ]
    },
    {
      "cell_type": "code",
      "source": [
        "upload_file = openai.File.create(\n",
        "  file=open(\"output1.jsonl\", \"rb\"),\n",
        "  purpose='fine-tune'\n",
        ")"
      ],
      "metadata": {
        "id": "E1ZZWPNJQZZA"
      },
      "execution_count": 7,
      "outputs": []
    },
    {
      "cell_type": "code",
      "source": [
        "start_train = openai.FineTuningJob.create(training_file=upload_file[\"id\"],model=\"gpt-3.5-turbo\")"
      ],
      "metadata": {
        "id": "3GKSuWjQQcx4",
        "colab": {
          "base_uri": "https://localhost:8080/",
          "height": 333
        },
        "outputId": "5555b221-2b26-4ac4-acbd-8a2966ac957d"
      },
      "execution_count": 9,
      "outputs": [
        {
          "output_type": "error",
          "ename": "InvalidRequestError",
          "evalue": "ignored",
          "traceback": [
            "\u001b[0;31m---------------------------------------------------------------------------\u001b[0m",
            "\u001b[0;31mInvalidRequestError\u001b[0m                       Traceback (most recent call last)",
            "\u001b[0;32m<ipython-input-9-484f2df24893>\u001b[0m in \u001b[0;36m<cell line: 1>\u001b[0;34m()\u001b[0m\n\u001b[0;32m----> 1\u001b[0;31m \u001b[0mstart_train\u001b[0m \u001b[0;34m=\u001b[0m \u001b[0mopenai\u001b[0m\u001b[0;34m.\u001b[0m\u001b[0mFineTuningJob\u001b[0m\u001b[0;34m.\u001b[0m\u001b[0mcreate\u001b[0m\u001b[0;34m(\u001b[0m\u001b[0mtraining_file\u001b[0m\u001b[0;34m=\u001b[0m\u001b[0mupload_file\u001b[0m\u001b[0;34m[\u001b[0m\u001b[0;34m\"id\"\u001b[0m\u001b[0;34m]\u001b[0m\u001b[0;34m,\u001b[0m\u001b[0mmodel\u001b[0m\u001b[0;34m=\u001b[0m\u001b[0;34m\"gpt-3.5-turbo\"\u001b[0m\u001b[0;34m)\u001b[0m\u001b[0;34m\u001b[0m\u001b[0;34m\u001b[0m\u001b[0m\n\u001b[0m",
            "\u001b[0;32m/usr/local/lib/python3.10/dist-packages/openai/api_resources/abstract/createable_api_resource.py\u001b[0m in \u001b[0;36mcreate\u001b[0;34m(cls, api_key, api_base, api_type, request_id, api_version, organization, **params)\u001b[0m\n\u001b[1;32m     55\u001b[0m         )\n\u001b[1;32m     56\u001b[0m \u001b[0;34m\u001b[0m\u001b[0m\n\u001b[0;32m---> 57\u001b[0;31m         response, _, api_key = requestor.request(\n\u001b[0m\u001b[1;32m     58\u001b[0m             \u001b[0;34m\"post\"\u001b[0m\u001b[0;34m,\u001b[0m \u001b[0murl\u001b[0m\u001b[0;34m,\u001b[0m \u001b[0mparams\u001b[0m\u001b[0;34m,\u001b[0m \u001b[0mrequest_id\u001b[0m\u001b[0;34m=\u001b[0m\u001b[0mrequest_id\u001b[0m\u001b[0;34m\u001b[0m\u001b[0;34m\u001b[0m\u001b[0m\n\u001b[1;32m     59\u001b[0m         )\n",
            "\u001b[0;32m/usr/local/lib/python3.10/dist-packages/openai/api_requestor.py\u001b[0m in \u001b[0;36mrequest\u001b[0;34m(self, method, url, params, headers, files, stream, request_id, request_timeout)\u001b[0m\n\u001b[1;32m    296\u001b[0m             \u001b[0mrequest_timeout\u001b[0m\u001b[0;34m=\u001b[0m\u001b[0mrequest_timeout\u001b[0m\u001b[0;34m,\u001b[0m\u001b[0;34m\u001b[0m\u001b[0;34m\u001b[0m\u001b[0m\n\u001b[1;32m    297\u001b[0m         )\n\u001b[0;32m--> 298\u001b[0;31m         \u001b[0mresp\u001b[0m\u001b[0;34m,\u001b[0m \u001b[0mgot_stream\u001b[0m \u001b[0;34m=\u001b[0m \u001b[0mself\u001b[0m\u001b[0;34m.\u001b[0m\u001b[0m_interpret_response\u001b[0m\u001b[0;34m(\u001b[0m\u001b[0mresult\u001b[0m\u001b[0;34m,\u001b[0m \u001b[0mstream\u001b[0m\u001b[0;34m)\u001b[0m\u001b[0;34m\u001b[0m\u001b[0;34m\u001b[0m\u001b[0m\n\u001b[0m\u001b[1;32m    299\u001b[0m         \u001b[0;32mreturn\u001b[0m \u001b[0mresp\u001b[0m\u001b[0;34m,\u001b[0m \u001b[0mgot_stream\u001b[0m\u001b[0;34m,\u001b[0m \u001b[0mself\u001b[0m\u001b[0;34m.\u001b[0m\u001b[0mapi_key\u001b[0m\u001b[0;34m\u001b[0m\u001b[0;34m\u001b[0m\u001b[0m\n\u001b[1;32m    300\u001b[0m \u001b[0;34m\u001b[0m\u001b[0m\n",
            "\u001b[0;32m/usr/local/lib/python3.10/dist-packages/openai/api_requestor.py\u001b[0m in \u001b[0;36m_interpret_response\u001b[0;34m(self, result, stream)\u001b[0m\n\u001b[1;32m    698\u001b[0m         \u001b[0;32melse\u001b[0m\u001b[0;34m:\u001b[0m\u001b[0;34m\u001b[0m\u001b[0;34m\u001b[0m\u001b[0m\n\u001b[1;32m    699\u001b[0m             return (\n\u001b[0;32m--> 700\u001b[0;31m                 self._interpret_response_line(\n\u001b[0m\u001b[1;32m    701\u001b[0m                     \u001b[0mresult\u001b[0m\u001b[0;34m.\u001b[0m\u001b[0mcontent\u001b[0m\u001b[0;34m.\u001b[0m\u001b[0mdecode\u001b[0m\u001b[0;34m(\u001b[0m\u001b[0;34m\"utf-8\"\u001b[0m\u001b[0;34m)\u001b[0m\u001b[0;34m,\u001b[0m\u001b[0;34m\u001b[0m\u001b[0;34m\u001b[0m\u001b[0m\n\u001b[1;32m    702\u001b[0m                     \u001b[0mresult\u001b[0m\u001b[0;34m.\u001b[0m\u001b[0mstatus_code\u001b[0m\u001b[0;34m,\u001b[0m\u001b[0;34m\u001b[0m\u001b[0;34m\u001b[0m\u001b[0m\n",
            "\u001b[0;32m/usr/local/lib/python3.10/dist-packages/openai/api_requestor.py\u001b[0m in \u001b[0;36m_interpret_response_line\u001b[0;34m(self, rbody, rcode, rheaders, stream)\u001b[0m\n\u001b[1;32m    763\u001b[0m         \u001b[0mstream_error\u001b[0m \u001b[0;34m=\u001b[0m \u001b[0mstream\u001b[0m \u001b[0;32mand\u001b[0m \u001b[0;34m\"error\"\u001b[0m \u001b[0;32min\u001b[0m \u001b[0mresp\u001b[0m\u001b[0;34m.\u001b[0m\u001b[0mdata\u001b[0m\u001b[0;34m\u001b[0m\u001b[0;34m\u001b[0m\u001b[0m\n\u001b[1;32m    764\u001b[0m         \u001b[0;32mif\u001b[0m \u001b[0mstream_error\u001b[0m \u001b[0;32mor\u001b[0m \u001b[0;32mnot\u001b[0m \u001b[0;36m200\u001b[0m \u001b[0;34m<=\u001b[0m \u001b[0mrcode\u001b[0m \u001b[0;34m<\u001b[0m \u001b[0;36m300\u001b[0m\u001b[0;34m:\u001b[0m\u001b[0;34m\u001b[0m\u001b[0;34m\u001b[0m\u001b[0m\n\u001b[0;32m--> 765\u001b[0;31m             raise self.handle_error_response(\n\u001b[0m\u001b[1;32m    766\u001b[0m                 \u001b[0mrbody\u001b[0m\u001b[0;34m,\u001b[0m \u001b[0mrcode\u001b[0m\u001b[0;34m,\u001b[0m \u001b[0mresp\u001b[0m\u001b[0;34m.\u001b[0m\u001b[0mdata\u001b[0m\u001b[0;34m,\u001b[0m \u001b[0mrheaders\u001b[0m\u001b[0;34m,\u001b[0m \u001b[0mstream_error\u001b[0m\u001b[0;34m=\u001b[0m\u001b[0mstream_error\u001b[0m\u001b[0;34m\u001b[0m\u001b[0;34m\u001b[0m\u001b[0m\n\u001b[1;32m    767\u001b[0m             )\n",
            "\u001b[0;31mInvalidRequestError\u001b[0m: File 'file-cs5bz6q16vqV8oDCCq3uhJBY' is still being processed and is not ready to be used for fine-tuning. Please try again later."
          ]
        }
      ]
    },
    {
      "cell_type": "code",
      "source": [
        "upload_file[\"id\"]"
      ],
      "metadata": {
        "colab": {
          "base_uri": "https://localhost:8080/",
          "height": 35
        },
        "id": "oxqrtFK0R9mJ",
        "outputId": "5a864043-ca61-42d3-b935-4b30cefd653e"
      },
      "execution_count": 8,
      "outputs": [
        {
          "output_type": "execute_result",
          "data": {
            "text/plain": [
              "'file-cs5bz6q16vqV8oDCCq3uhJBY'"
            ],
            "application/vnd.google.colaboratory.intrinsic+json": {
              "type": "string"
            }
          },
          "metadata": {},
          "execution_count": 8
        }
      ]
    },
    {
      "cell_type": "code",
      "source": [
        "# upload_file의 상태 확인\n",
        "upload_file = openai.File.retrieve(\"file-yGpE34Ak3KGiI4bmLu2LE3LT\")\n",
        "print(upload_file)"
      ],
      "metadata": {
        "colab": {
          "base_uri": "https://localhost:8080/"
        },
        "id": "eILgpSXIQelu",
        "outputId": "4826a05b-c7c5-4160-a800-80c1a86a70e9"
      },
      "execution_count": 9,
      "outputs": [
        {
          "output_type": "stream",
          "name": "stdout",
          "text": [
            "{\n",
            "  \"object\": \"file\",\n",
            "  \"id\": \"file-yGpE34Ak3KGiI4bmLu2LE3LT\",\n",
            "  \"purpose\": \"fine-tune\",\n",
            "  \"filename\": \"file\",\n",
            "  \"bytes\": 10115,\n",
            "  \"created_at\": 1693981813,\n",
            "  \"status\": \"processed\",\n",
            "  \"status_details\": null\n",
            "}\n"
          ]
        }
      ]
    },
    {
      "cell_type": "code",
      "source": [
        "print(upload_file)"
      ],
      "metadata": {
        "colab": {
          "base_uri": "https://localhost:8080/"
        },
        "id": "yBZ2etmhMToJ",
        "outputId": "c91ed707-7438-4f91-ae5f-b66952686db4"
      },
      "execution_count": 10,
      "outputs": [
        {
          "output_type": "stream",
          "name": "stdout",
          "text": [
            "{\n",
            "  \"object\": \"file\",\n",
            "  \"id\": \"file-yGpE34Ak3KGiI4bmLu2LE3LT\",\n",
            "  \"purpose\": \"fine-tune\",\n",
            "  \"filename\": \"file\",\n",
            "  \"bytes\": 10115,\n",
            "  \"created_at\": 1693981813,\n",
            "  \"status\": \"processed\",\n",
            "  \"status_details\": null\n",
            "}\n"
          ]
        }
      ]
    },
    {
      "cell_type": "code",
      "source": [
        "start_train = openai.FineTuningJob.create(\n",
        "    training_file=\"file-yGpE34Ak3KGiI4bmLu2LE3LT\",\n",
        "    model=\"gpt-3.5-turbo\"\n",
        ")"
      ],
      "metadata": {
        "id": "kdqKdv-OQhdj"
      },
      "execution_count": 12,
      "outputs": []
    },
    {
      "cell_type": "code",
      "source": [
        "start_train"
      ],
      "metadata": {
        "colab": {
          "base_uri": "https://localhost:8080/"
        },
        "id": "w2Wxn7O4E_Jh",
        "outputId": "8f018a0b-d7a5-4927-abe5-3ddc1473749e"
      },
      "execution_count": 13,
      "outputs": [
        {
          "output_type": "execute_result",
          "data": {
            "text/plain": [
              "<FineTuningJob fine_tuning.job id=ftjob-F2tKG65lHlNVupcwInT4Sf7Q at 0x78b5f3627790> JSON: {\n",
              "  \"object\": \"fine_tuning.job\",\n",
              "  \"id\": \"ftjob-F2tKG65lHlNVupcwInT4Sf7Q\",\n",
              "  \"model\": \"gpt-3.5-turbo-0613\",\n",
              "  \"created_at\": 1693982643,\n",
              "  \"finished_at\": null,\n",
              "  \"fine_tuned_model\": null,\n",
              "  \"organization_id\": \"org-i253FjBqgegFhqf2KDk2K7sq\",\n",
              "  \"result_files\": [],\n",
              "  \"status\": \"created\",\n",
              "  \"validation_file\": null,\n",
              "  \"training_file\": \"file-yGpE34Ak3KGiI4bmLu2LE3LT\",\n",
              "  \"hyperparameters\": {\n",
              "    \"n_epochs\": 9\n",
              "  },\n",
              "  \"trained_tokens\": null\n",
              "}"
            ]
          },
          "metadata": {},
          "execution_count": 13
        }
      ]
    },
    {
      "cell_type": "code",
      "source": [
        "# Fine-tuning 작업 상태 확인\n",
        "status = openai.FineTuningJob.list(limit=10)\n",
        "status[\"data\"][0]"
      ],
      "metadata": {
        "colab": {
          "base_uri": "https://localhost:8080/"
        },
        "id": "C2QwTdUWSFGj",
        "outputId": "ae9d6228-8f23-4edf-ef76-f554b9e68fa9"
      },
      "execution_count": 16,
      "outputs": [
        {
          "output_type": "execute_result",
          "data": {
            "text/plain": [
              "<FineTuningJob fine_tuning.job id=ftjob-F2tKG65lHlNVupcwInT4Sf7Q at 0x78b5d67b7830> JSON: {\n",
              "  \"object\": \"fine_tuning.job\",\n",
              "  \"id\": \"ftjob-F2tKG65lHlNVupcwInT4Sf7Q\",\n",
              "  \"model\": \"gpt-3.5-turbo-0613\",\n",
              "  \"created_at\": 1693982643,\n",
              "  \"finished_at\": 1693983319,\n",
              "  \"fine_tuned_model\": \"ft:gpt-3.5-turbo-0613:personal::7vgjXI2G\",\n",
              "  \"organization_id\": \"org-i253FjBqgegFhqf2KDk2K7sq\",\n",
              "  \"result_files\": [\n",
              "    \"file-wRRL0AdgLaupXu8YWbjh6niM\"\n",
              "  ],\n",
              "  \"status\": \"succeeded\",\n",
              "  \"validation_file\": null,\n",
              "  \"training_file\": \"file-yGpE34Ak3KGiI4bmLu2LE3LT\",\n",
              "  \"hyperparameters\": {\n",
              "    \"n_epochs\": 9\n",
              "  },\n",
              "  \"trained_tokens\": 17523\n",
              "}"
            ]
          },
          "metadata": {},
          "execution_count": 16
        }
      ]
    },
    {
      "cell_type": "code",
      "source": [
        "# 모델 이름 얻기\n",
        "fine_tuned_model = status[\"data\"][0][\"fine_tuned_model\"]\n",
        "print(fine_tuned_model)"
      ],
      "metadata": {
        "colab": {
          "base_uri": "https://localhost:8080/"
        },
        "id": "PPUq1EMaSHcz",
        "outputId": "ecabf4d7-3292-4ec7-eeba-1f675a7fada4"
      },
      "execution_count": 17,
      "outputs": [
        {
          "output_type": "stream",
          "name": "stdout",
          "text": [
            "ft:gpt-3.5-turbo-0613:personal::7vgjXI2G\n"
          ]
        }
      ]
    },
    {
      "cell_type": "code",
      "source": [
        "completion = openai.ChatCompletion.create(\n",
        "  model=status[\"data\"][0][\"fine_tuned_model\"],\n",
        "  messages=[\n",
        "    {\"role\": \"user\", \"content\": '''\n",
        "    \"개인정보의 처리목적\n",
        "    <개인정보처리자명>은(는) 다음의 목적을 위하여 개인정보를 처리합니다. 처리하고 있는 개인정보는 다음의 목적 이외의 용도로는 이용되지 않으며,\n",
        "    이용목적이 변경되는 경우에는 \"개인정보보호법\" 제 18조에 따라 별도의 동의를 받는 등 필요한 조치를 이행할 예정입니다.\n",
        "    1.  회원가입 및 서비스 개발 등\n",
        "    sns 마케팅,신규서비스 개발, 데이터 분석등의 목적으로 개인정보를 처리합니다.\"\n",
        "    -> 여기서 잘못된 부분은 어디일까? 그리고 어떻게 수정하면 될지 알려줄래?\n",
        "    '''}\n",
        "  ]\n",
        ")"
      ],
      "metadata": {
        "id": "6CKb5m9sSPj8"
      },
      "execution_count": 18,
      "outputs": []
    },
    {
      "cell_type": "code",
      "source": [
        "print(completion.choices[0].message[\"content\"])"
      ],
      "metadata": {
        "colab": {
          "base_uri": "https://localhost:8080/"
        },
        "id": "322bMkTnSLqb",
        "outputId": "c4f55f87-bc06-4ffa-c320-15ba91f6f363"
      },
      "execution_count": 19,
      "outputs": [
        {
          "output_type": "stream",
          "name": "stdout",
          "text": [
            "'회원가입 및 서비스 개발 등' -> 개인정보 처리목적을 '~등'으로 추상적으로 기술하면 안됩니다. '회원가입 및 서비스 개발, sns 마케팅,신규서비스 개발, 데이터 분석등'처럼 명확하게 모든 개인정보 처리목적을 기술해야 합니다. END\n"
          ]
        }
      ]
    },
    {
      "cell_type": "code",
      "source": [],
      "metadata": {
        "id": "bJ4AVy5AgSPM"
      },
      "execution_count": null,
      "outputs": []
    }
  ]
}